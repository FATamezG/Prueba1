{
 "cells": [
  {
   "cell_type": "markdown",
   "id": "c587257f",
   "metadata": {},
   "source": [
    "# Organizar el código y llamar funciones/transformaciones n cantidad de veces (Re-utilizar)"
   ]
  },
  {
   "cell_type": "code",
   "execution_count": 1,
   "id": "afd942c0",
   "metadata": {},
   "outputs": [],
   "source": [
    "class Persona: #Def clase\n",
    "    '''Clase que representa a una persona'''\n",
    "    nombre= \"Paco\"\n",
    "    apellido= \"Tamez\"\n",
    "    genero= \"M\"\n",
    "    cedula= \"N/A\""
   ]
  },
  {
   "cell_type": "code",
   "execution_count": 2,
   "id": "8c81c2f5",
   "metadata": {},
   "outputs": [],
   "source": [
    "Emp1=Persona #Asignación"
   ]
  },
  {
   "cell_type": "code",
   "execution_count": 3,
   "id": "6a3abf38",
   "metadata": {},
   "outputs": [
    {
     "data": {
      "text/plain": [
       "'Paco'"
      ]
     },
     "execution_count": 3,
     "metadata": {},
     "output_type": "execute_result"
    }
   ],
   "source": [
    "Emp1.nombre"
   ]
  },
  {
   "cell_type": "code",
   "execution_count": 4,
   "id": "edf69b98",
   "metadata": {},
   "outputs": [
    {
     "name": "stdout",
     "output_type": "stream",
     "text": [
      "El objeto de la clase Persona, Clase que representa a una persona\n"
     ]
    }
   ],
   "source": [
    "print(\"El objeto de la clase \"+Emp1.__name__+\", \"+Emp1.__doc__)"
   ]
  },
  {
   "cell_type": "code",
   "execution_count": 5,
   "id": "c869197c",
   "metadata": {},
   "outputs": [],
   "source": [
    "class Persona: #Def clase\n",
    "    '''Clase que representa a una persona'''\n",
    "    nombre= \"Paco\"\n",
    "    apellido= \"Tamez\"\n",
    "    genero= \"M\"\n",
    "    cedula= \"N/A\"\n",
    "    def hablar(self,mensaje):\n",
    "        '''Impresión de un mensaje'''\n",
    "        return mensaje"
   ]
  },
  {
   "cell_type": "code",
   "execution_count": 6,
   "id": "83d8043a",
   "metadata": {},
   "outputs": [],
   "source": [
    "Emp2=Persona"
   ]
  },
  {
   "cell_type": "code",
   "execution_count": 7,
   "id": "ef084d08",
   "metadata": {},
   "outputs": [
    {
     "data": {
      "text/plain": [
       "'Mensaje'"
      ]
     },
     "execution_count": 7,
     "metadata": {},
     "output_type": "execute_result"
    }
   ],
   "source": [
    "Persona().hablar(\"Mensaje\")"
   ]
  },
  {
   "cell_type": "code",
   "execution_count": 8,
   "id": "47dd593a",
   "metadata": {},
   "outputs": [
    {
     "data": {
      "text/plain": [
       "['__class__',\n",
       " '__delattr__',\n",
       " '__dict__',\n",
       " '__dir__',\n",
       " '__doc__',\n",
       " '__eq__',\n",
       " '__format__',\n",
       " '__ge__',\n",
       " '__getattribute__',\n",
       " '__gt__',\n",
       " '__hash__',\n",
       " '__init__',\n",
       " '__init_subclass__',\n",
       " '__le__',\n",
       " '__lt__',\n",
       " '__module__',\n",
       " '__ne__',\n",
       " '__new__',\n",
       " '__reduce__',\n",
       " '__reduce_ex__',\n",
       " '__repr__',\n",
       " '__setattr__',\n",
       " '__sizeof__',\n",
       " '__str__',\n",
       " '__subclasshook__',\n",
       " '__weakref__',\n",
       " 'apellido',\n",
       " 'cedula',\n",
       " 'genero',\n",
       " 'nombre']"
      ]
     },
     "execution_count": 8,
     "metadata": {},
     "output_type": "execute_result"
    }
   ],
   "source": [
    "dir(Emp1) #Emp1 se queda con la definición original de la clase Persona"
   ]
  },
  {
   "cell_type": "code",
   "execution_count": 9,
   "id": "a36ed259",
   "metadata": {},
   "outputs": [
    {
     "data": {
      "text/plain": [
       "method"
      ]
     },
     "execution_count": 9,
     "metadata": {},
     "output_type": "execute_result"
    }
   ],
   "source": [
    "type(Persona().hablar)"
   ]
  },
  {
   "cell_type": "code",
   "execution_count": 10,
   "id": "0ea08da4",
   "metadata": {},
   "outputs": [
    {
     "data": {
      "text/plain": [
       "'Impresión de un mensaje'"
      ]
     },
     "execution_count": 10,
     "metadata": {},
     "output_type": "execute_result"
    }
   ],
   "source": [
    "Persona().hablar.__doc__"
   ]
  },
  {
   "cell_type": "code",
   "execution_count": 11,
   "id": "96b6ec93",
   "metadata": {},
   "outputs": [
    {
     "data": {
      "text/plain": [
       "<function __main__.Persona.hablar(self, mensaje)>"
      ]
     },
     "execution_count": 11,
     "metadata": {},
     "output_type": "execute_result"
    }
   ],
   "source": [
    "Emp2.hablar"
   ]
  },
  {
   "cell_type": "code",
   "execution_count": 13,
   "id": "d3b44ba2",
   "metadata": {},
   "outputs": [
    {
     "data": {
      "text/plain": [
       "'Paco'"
      ]
     },
     "execution_count": 13,
     "metadata": {},
     "output_type": "execute_result"
    }
   ],
   "source": [
    "Emp2.nombre"
   ]
  },
  {
   "cell_type": "code",
   "execution_count": 14,
   "id": "29f6d82f",
   "metadata": {},
   "outputs": [],
   "source": [
    "class Persona: #Def clase\n",
    "    '''Clase que representa a una persona'''\n",
    "    \n",
    "    def __init__(self, nombre, apellido, genero, cedula): #Definir función init\n",
    "        self.nombre= nombre\n",
    "        self.apellido= apellido\n",
    "        self.genero= genero\n",
    "        self.cedula= cedula\n",
    "        \n",
    "    def hablar(self,mensaje):\n",
    "        '''Impresión de un mensaje'''\n",
    "        return mensaje"
   ]
  },
  {
   "cell_type": "code",
   "execution_count": 38,
   "id": "6d0c31c8",
   "metadata": {},
   "outputs": [],
   "source": [
    "class Superv(Persona):\n",
    "    '''Clase que representa a un supervisor'''\n",
    "    \n",
    "    def __init__(self, nombre, apellido, genero, cedula, puesto):\n",
    "        '''Constructor para un supervisor'''\n",
    "        \n",
    "        Persona.__init__(self, nombre, apellido, genero, cedula)\n",
    "        self.puesto= puesto #Atributo adicional/extra respecto a clase Persona\n",
    "        self.tareas=[\"10\",\"11\",\"12\",\"13\"]\n",
    "        \n",
    "    def __str__(self):\n",
    "        '''Devuelve la cadena descriptiva'''\n",
    "        \n",
    "        return \"%s: %s %s, puesto: '%s', sus tareas son %s\" %(\n",
    "            #    0   1  2            3                   4\n",
    "        self.__doc__, self.nombre, self.apellido, self.puesto, self.consulta_tareas())\n",
    "        #      0            1             2              3             4\n",
    "        \n",
    "    def consulta_tareas(self):\n",
    "        '''Mostrar las tareas de un supervisor'''\n",
    "        \n",
    "        return \", \".join(self.tareas)\n",
    "        "
   ]
  },
  {
   "cell_type": "code",
   "execution_count": 16,
   "id": "7c4056ed",
   "metadata": {},
   "outputs": [],
   "source": [
    "Emp2=Persona(\"nombre\",\"apellido\",\"genero\",\"cedula\")"
   ]
  },
  {
   "cell_type": "code",
   "execution_count": 17,
   "id": "be835698",
   "metadata": {},
   "outputs": [
    {
     "data": {
      "text/plain": [
       "['__class__',\n",
       " '__delattr__',\n",
       " '__dict__',\n",
       " '__dir__',\n",
       " '__doc__',\n",
       " '__eq__',\n",
       " '__format__',\n",
       " '__ge__',\n",
       " '__getattribute__',\n",
       " '__gt__',\n",
       " '__hash__',\n",
       " '__init__',\n",
       " '__init_subclass__',\n",
       " '__le__',\n",
       " '__lt__',\n",
       " '__module__',\n",
       " '__ne__',\n",
       " '__new__',\n",
       " '__reduce__',\n",
       " '__reduce_ex__',\n",
       " '__repr__',\n",
       " '__setattr__',\n",
       " '__sizeof__',\n",
       " '__str__',\n",
       " '__subclasshook__',\n",
       " '__weakref__',\n",
       " 'apellido',\n",
       " 'cedula',\n",
       " 'genero',\n",
       " 'hablar',\n",
       " 'nombre']"
      ]
     },
     "execution_count": 17,
     "metadata": {},
     "output_type": "execute_result"
    }
   ],
   "source": [
    "dir(Emp2)"
   ]
  },
  {
   "cell_type": "code",
   "execution_count": 39,
   "id": "9b9d38ae",
   "metadata": {},
   "outputs": [],
   "source": [
    "Super1=Superv(\"nombre\",\"apellido\",\"genero\",\"cedula\",\"puesto\")"
   ]
  },
  {
   "cell_type": "code",
   "execution_count": 30,
   "id": "f8166c7b",
   "metadata": {},
   "outputs": [
    {
     "data": {
      "text/plain": [
       "['__class__',\n",
       " '__delattr__',\n",
       " '__dict__',\n",
       " '__dir__',\n",
       " '__doc__',\n",
       " '__eq__',\n",
       " '__format__',\n",
       " '__ge__',\n",
       " '__getattribute__',\n",
       " '__gt__',\n",
       " '__hash__',\n",
       " '__init__',\n",
       " '__init_subclass__',\n",
       " '__le__',\n",
       " '__lt__',\n",
       " '__module__',\n",
       " '__ne__',\n",
       " '__new__',\n",
       " '__reduce__',\n",
       " '__reduce_ex__',\n",
       " '__repr__',\n",
       " '__setattr__',\n",
       " '__sizeof__',\n",
       " '__str__',\n",
       " '__subclasshook__',\n",
       " '__weakref__',\n",
       " 'apellido',\n",
       " 'cedula',\n",
       " 'consulta_tareas',\n",
       " 'genero',\n",
       " 'hablar',\n",
       " 'nombre',\n",
       " 'puesto',\n",
       " 'tareas']"
      ]
     },
     "execution_count": 30,
     "metadata": {},
     "output_type": "execute_result"
    }
   ],
   "source": [
    "dir(Super1)"
   ]
  },
  {
   "cell_type": "code",
   "execution_count": 40,
   "id": "cc9a19c1",
   "metadata": {},
   "outputs": [],
   "source": [
    "Super2=Superv(\"Isaac\",\"Hernandez\",\"M\",\"123\",\"A\")"
   ]
  },
  {
   "cell_type": "code",
   "execution_count": 41,
   "id": "0fb9becd",
   "metadata": {},
   "outputs": [],
   "source": [
    "Super3=Superv(\"Mauricio\",\"Gomez\",\"M\",\"456\",\"B\")"
   ]
  },
  {
   "cell_type": "code",
   "execution_count": 42,
   "id": "c72904a1",
   "metadata": {},
   "outputs": [
    {
     "name": "stdout",
     "output_type": "stream",
     "text": [
      "Cédula de S1: cedula\n"
     ]
    }
   ],
   "source": [
    "print(\"Cédula de S1: {0}\".format(Super1.cedula))"
   ]
  },
  {
   "cell_type": "code",
   "execution_count": 43,
   "id": "a35720b1",
   "metadata": {},
   "outputs": [
    {
     "name": "stdout",
     "output_type": "stream",
     "text": [
      "\n",
      "Clase que representa a un supervisor: Mauricio Gomez, puesto: 'B', sus tareas son 10, 11, 12, 13\n"
     ]
    }
   ],
   "source": [
    "print(\"\\n\" + str(Super3))"
   ]
  },
  {
   "cell_type": "code",
   "execution_count": 44,
   "id": "37044d41",
   "metadata": {},
   "outputs": [
    {
     "name": "stdout",
     "output_type": "stream",
     "text": [
      "Las tareas son: 10, 11, 12, 13\n"
     ]
    }
   ],
   "source": [
    "print(\"Las tareas son: {0}\".format(Super2.consulta_tareas()))"
   ]
  },
  {
   "cell_type": "markdown",
   "id": "95e80a85",
   "metadata": {},
   "source": [
    "# Parte 2"
   ]
  },
  {
   "cell_type": "code",
   "execution_count": 3,
   "id": "cdef8494",
   "metadata": {},
   "outputs": [],
   "source": [
    "def suma_n(*args):\n",
    "    return sum(args)"
   ]
  },
  {
   "cell_type": "code",
   "execution_count": 4,
   "id": "dd6c24c6",
   "metadata": {},
   "outputs": [
    {
     "data": {
      "text/plain": [
       "28"
      ]
     },
     "execution_count": 4,
     "metadata": {},
     "output_type": "execute_result"
    }
   ],
   "source": [
    "suma_n(1,2,3,4,5,6,7)"
   ]
  },
  {
   "cell_type": "code",
   "execution_count": 5,
   "id": "65fad76b",
   "metadata": {},
   "outputs": [],
   "source": [
    "def mayus(*palabras):\n",
    "    for p in palabras:\n",
    "        print(p.upper())"
   ]
  },
  {
   "cell_type": "code",
   "execution_count": 6,
   "id": "d8e1105f",
   "metadata": {},
   "outputs": [],
   "source": [
    "lista_p=[\"hola\",\"buenos\",\"dias\"]"
   ]
  },
  {
   "cell_type": "code",
   "execution_count": 8,
   "id": "f11d970e",
   "metadata": {},
   "outputs": [
    {
     "name": "stdout",
     "output_type": "stream",
     "text": [
      "HOLA\n",
      "BUENOS\n",
      "DIAS\n"
     ]
    }
   ],
   "source": [
    "mayus(*lista_p)"
   ]
  },
  {
   "cell_type": "code",
   "execution_count": 9,
   "id": "9962b0e0",
   "metadata": {},
   "outputs": [],
   "source": [
    "def imprimir_ka(**kwargs):\n",
    "    print(kwargs)"
   ]
  },
  {
   "cell_type": "code",
   "execution_count": 11,
   "id": "db7a55b2",
   "metadata": {},
   "outputs": [
    {
     "name": "stdout",
     "output_type": "stream",
     "text": [
      "{'kwarg1': 'Uno', 'kwarg2': 'Dos', 'kwarg3': 'Tres'}\n"
     ]
    }
   ],
   "source": [
    "imprimir_ka(kwarg1=\"Uno\",kwarg2=\"Dos\",kwarg3=\"Tres\")"
   ]
  },
  {
   "cell_type": "code",
   "execution_count": 17,
   "id": "73307cc3",
   "metadata": {},
   "outputs": [],
   "source": [
    "def calc2(a,b,c,*args,**kwargs):\n",
    "    if kwargs.get(\"operacion\")==\"suma\":\n",
    "        print(\"La suma de a,b y c es:\", (a+b+c))\n",
    "    if kwargs.get(\"argumento\")==\"primero\":\n",
    "        print(\"El primer argumento es:\", a)\n",
    "    suma=0\n",
    "    for i in args:\n",
    "        suma+=i\n",
    "    print(\"La suma de los args es:\", suma)\n",
    "    "
   ]
  },
  {
   "cell_type": "code",
   "execution_count": 13,
   "id": "09e2e30d",
   "metadata": {},
   "outputs": [],
   "source": [
    "numeros=[1,2,3,4,5]"
   ]
  },
  {
   "cell_type": "code",
   "execution_count": 18,
   "id": "cfe4604a",
   "metadata": {},
   "outputs": [
    {
     "name": "stdout",
     "output_type": "stream",
     "text": [
      "La suma de a,b y c es: 6\n",
      "El primer argumento es: 1\n",
      "La suma de los args es: 15\n"
     ]
    }
   ],
   "source": [
    "calc2(1,2,3,*numeros,operacion=\"suma\",argumento=\"primero\")"
   ]
  },
  {
   "cell_type": "code",
   "execution_count": null,
   "id": "a32a7a0d",
   "metadata": {},
   "outputs": [],
   "source": []
  }
 ],
 "metadata": {
  "kernelspec": {
   "display_name": "Python 3",
   "language": "python",
   "name": "python3"
  },
  "language_info": {
   "codemirror_mode": {
    "name": "ipython",
    "version": 3
   },
   "file_extension": ".py",
   "mimetype": "text/x-python",
   "name": "python",
   "nbconvert_exporter": "python",
   "pygments_lexer": "ipython3",
   "version": "3.6.13"
  }
 },
 "nbformat": 4,
 "nbformat_minor": 5
}
