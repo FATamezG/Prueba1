{
 "cells": [
  {
   "cell_type": "code",
   "execution_count": 1,
   "id": "67a8e9a8",
   "metadata": {},
   "outputs": [],
   "source": [
    "def resta(a,b):\n",
    "    return a-b"
   ]
  },
  {
   "cell_type": "code",
   "execution_count": 2,
   "id": "3dd4a894",
   "metadata": {},
   "outputs": [
    {
     "data": {
      "text/plain": [
       "40"
      ]
     },
     "execution_count": 2,
     "metadata": {},
     "output_type": "execute_result"
    }
   ],
   "source": [
    "resta(50,10)"
   ]
  },
  {
   "cell_type": "code",
   "execution_count": 4,
   "id": "7fa0ead8",
   "metadata": {},
   "outputs": [
    {
     "data": {
      "text/plain": [
       "-45"
      ]
     },
     "execution_count": 4,
     "metadata": {},
     "output_type": "execute_result"
    }
   ],
   "source": [
    "resta(30,75)"
   ]
  },
  {
   "cell_type": "code",
   "execution_count": 5,
   "id": "b071be6c",
   "metadata": {},
   "outputs": [],
   "source": [
    "def resta_new (a=None, b=None):\n",
    "    if a==None or b==None:\n",
    "        print(\"La función necesita dos números\")\n",
    "        return\n",
    "    return a-b"
   ]
  },
  {
   "cell_type": "code",
   "execution_count": 6,
   "id": "b6d03673",
   "metadata": {},
   "outputs": [
    {
     "name": "stdout",
     "output_type": "stream",
     "text": [
      "La función necesita dos números\n"
     ]
    }
   ],
   "source": [
    "resta_new(20)"
   ]
  },
  {
   "cell_type": "code",
   "execution_count": null,
   "id": "f2a8326c",
   "metadata": {},
   "outputs": [],
   "source": []
  }
 ],
 "metadata": {
  "kernelspec": {
   "display_name": "Python 3",
   "language": "python",
   "name": "python3"
  },
  "language_info": {
   "codemirror_mode": {
    "name": "ipython",
    "version": 3
   },
   "file_extension": ".py",
   "mimetype": "text/x-python",
   "name": "python",
   "nbconvert_exporter": "python",
   "pygments_lexer": "ipython3",
   "version": "3.6.13"
  }
 },
 "nbformat": 4,
 "nbformat_minor": 5
}
