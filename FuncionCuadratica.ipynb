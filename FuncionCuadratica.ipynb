{
 "cells": [
  {
   "cell_type": "code",
   "execution_count": 26,
   "metadata": {},
   "outputs": [],
   "source": [
    "\n",
    "#Ejercicio Básico\n",
    "\n",
    "from math import sqrt\n",
    "from cmath import sqrt as csqrt\n",
    "def cuadra(a,b,c):\n",
    "    if ( b**2 - (4*a*c) ) < 0:\n",
    "        print(\"Solución Compleja!\")\n",
    "        x1=( -b + csqrt( b**2 - 4*a*c ) ) / (2*a)\n",
    "        x2=( -b - csqrt( b**2 - 4*a*c ) ) / (2*a)\n",
    "        print(\"El valor de X1 es:\",x1,\"\\nEl valor de X2 es:\",x2)\n",
    "    else:\n",
    "        x1=( -b + sqrt( b**2 - 4*a*c ) ) / (2*a)\n",
    "        x2=( -b - sqrt( b**2 - 4*a*c ) ) / (2*a)\n",
    "        print(\"El valor de X1 es:\",x1,\"\\nEl valor de X2 es:\",x2)\n"
   ]
  },
  {
   "cell_type": "code",
   "execution_count": 27,
   "metadata": {},
   "outputs": [
    {
     "name": "stdout",
     "output_type": "stream",
     "text": [
      "El valor de X1 es: 2.189254787610007 \n",
      "El valor de X2 es: -1.5225881209433405\n"
     ]
    }
   ],
   "source": [
    "cuadra(12,-8,-40)"
   ]
  },
  {
   "cell_type": "code",
   "execution_count": 28,
   "metadata": {},
   "outputs": [
    {
     "name": "stdout",
     "output_type": "stream",
     "text": [
      "Solución Compleja!\n",
      "El valor de X1 es: (-1.15+1.7825543469975886j) \n",
      "El valor de X2 es: (-1.15-1.7825543469975886j)\n"
     ]
    }
   ],
   "source": [
    "cuadra(10,23,45)"
   ]
  },
  {
   "cell_type": "code",
   "execution_count": null,
   "metadata": {},
   "outputs": [],
   "source": []
  }
 ],
 "metadata": {
  "kernelspec": {
   "display_name": "Python 3.6.13 ('python_fundamentals')",
   "language": "python",
   "name": "python3"
  },
  "language_info": {
   "codemirror_mode": {
    "name": "ipython",
    "version": 3
   },
   "file_extension": ".py",
   "mimetype": "text/x-python",
   "name": "python",
   "nbconvert_exporter": "python",
   "pygments_lexer": "ipython3",
   "version": "3.6.13"
  },
  "orig_nbformat": 4,
  "vscode": {
   "interpreter": {
    "hash": "1a7dd868d12826be79773ac205a1faeacd38abc812368ce976421525fffc9939"
   }
  }
 },
 "nbformat": 4,
 "nbformat_minor": 2
}
