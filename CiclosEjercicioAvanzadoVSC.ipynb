{
 "cells": [
  {
   "cell_type": "code",
   "execution_count": 1,
   "metadata": {},
   "outputs": [],
   "source": [
    "import numpy as np"
   ]
  },
  {
   "cell_type": "code",
   "execution_count": 2,
   "metadata": {},
   "outputs": [],
   "source": [
    "diccionario={}"
   ]
  },
  {
   "cell_type": "code",
   "execution_count": 4,
   "metadata": {},
   "outputs": [],
   "source": [
    "lista1=[\"Miguel\",\"Edwin\",\"Erick\",\"Pedro\",\"Pau\",\"Liliana\",\"MArco\",\"Claudia\",\"Roland\",\"Gerardo\",\"Jonathan\",\"Paco\",\"Yolanda\",\"Julio\",\"Victor\",\"Gustavo\",\"Paulina\"]"
   ]
  },
  {
   "cell_type": "code",
   "execution_count": 6,
   "metadata": {},
   "outputs": [],
   "source": [
    "for nombre in lista1:\n",
    "    valor=np.random.random() * 100\n",
    "    diccionario.update({nombre:valor})"
   ]
  },
  {
   "cell_type": "code",
   "execution_count": 12,
   "metadata": {},
   "outputs": [
    {
     "name": "stdout",
     "output_type": "stream",
     "text": [
      "Nombre: Miguel           Valor: 26.538103985320927\n",
      "Nombre: Edwin            Valor: 15.072399157713557\n",
      "Nombre: Erick            Valor: 29.42328779598474\n",
      "Nombre: Pedro            Valor: 70.65779113851333\n",
      "Nombre: Pau              Valor: 10.797642794084538\n",
      "Nombre: Liliana          Valor: 79.9096845557921\n",
      "Nombre: MArco            Valor: 7.029494788108526\n",
      "Nombre: Claudia          Valor: 61.71012423572544\n",
      "Nombre: Roland           Valor: 54.826832579778895\n",
      "Nombre: Gerardo          Valor: 52.453971019013636\n",
      "Nombre: Jonathan         Valor: 20.29133758865741\n",
      "Nombre: Paco             Valor: 21.961402935311202\n",
      "Nombre: Yolanda          Valor: 16.735814585881105\n",
      "Nombre: Julio            Valor: 41.15495393573716\n",
      "Nombre: Victor           Valor: 28.333714158832134\n",
      "Nombre: Gustavo          Valor: 89.31717293888119\n",
      "Nombre: Paulina          Valor: 46.585397649698535\n"
     ]
    }
   ],
   "source": [
    "blanco=\" \"\n",
    "for key,value in diccionario.items():\n",
    "    longitud=len(key)\n",
    "    cantidad=15-longitud\n",
    "    print(\"Nombre:\",key,blanco*cantidad,\"Valor:\",value)"
   ]
  },
  {
   "cell_type": "code",
   "execution_count": 13,
   "metadata": {},
   "outputs": [
    {
     "name": "stdout",
     "output_type": "stream",
     "text": [
      "El valor máximo es: 89.31717293888119\n"
     ]
    }
   ],
   "source": [
    "print(\"El valor máximo es:\",max(diccionario.values()))"
   ]
  },
  {
   "cell_type": "code",
   "execution_count": 14,
   "metadata": {},
   "outputs": [
    {
     "name": "stdout",
     "output_type": "stream",
     "text": [
      "El valor mínimo es: 7.029494788108526\n"
     ]
    }
   ],
   "source": [
    "print(\"El valor mínimo es:\",min(diccionario.values()))"
   ]
  },
  {
   "cell_type": "code",
   "execution_count": null,
   "metadata": {},
   "outputs": [],
   "source": []
  }
 ],
 "metadata": {
  "kernelspec": {
   "display_name": "Python 3.6.13 ('python_fundamentals')",
   "language": "python",
   "name": "python3"
  },
  "language_info": {
   "codemirror_mode": {
    "name": "ipython",
    "version": 3
   },
   "file_extension": ".py",
   "mimetype": "text/x-python",
   "name": "python",
   "nbconvert_exporter": "python",
   "pygments_lexer": "ipython3",
   "version": "3.6.13"
  },
  "orig_nbformat": 4,
  "vscode": {
   "interpreter": {
    "hash": "1a7dd868d12826be79773ac205a1faeacd38abc812368ce976421525fffc9939"
   }
  }
 },
 "nbformat": 4,
 "nbformat_minor": 2
}
