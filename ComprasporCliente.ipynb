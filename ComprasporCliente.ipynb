{
 "cells": [
  {
   "cell_type": "code",
   "execution_count": 4,
   "metadata": {},
   "outputs": [
    {
     "name": "stdout",
     "output_type": "stream",
     "text": [
      "Cantidad de artículos comprados: 4\n",
      "Subtotal: 1415.0 \n",
      "Descuento: 141.5 \n",
      "Total a pagar: 1273.5\n"
     ]
    }
   ],
   "source": [
    "\n",
    "# Ejercicio Básico\n",
    "\n",
    "conteo=0\n",
    "total=0\n",
    "monto=float(input(\"Ingrese el monto de la compra (0 para salir):\"))\n",
    "while monto!=0:\n",
    "    while monto<0:\n",
    "        monto=float(input(\"El monto de la compra no debe ser negativo, intente de nuevo (0 para salir):\"))\n",
    "    if monto!=0:\n",
    "        total+=monto\n",
    "        conteo+=1\n",
    "        monto=float(input(\"Ingrese el monto de la compra (0 para salir):\"))\n",
    "print(\"Cantidad de artículos comprados:\",conteo)\n",
    "if total>1000:\n",
    "    print(\"Subtotal:\",total,\"\\nDescuento:\",total*.1,\"\\nTotal a pagar:\",total*.9)\n",
    "else:\n",
    "    print(\"Total a pagar:\",total)\n"
   ]
  },
  {
   "cell_type": "code",
   "execution_count": 3,
   "metadata": {},
   "outputs": [
    {
     "name": "stdout",
     "output_type": "stream",
     "text": [
      "Por 1.0 horas estacionado El importe a pagar es: 25\n",
      "Por 2.0 horas estacionado El importe a pagar es: 40\n",
      "Por 3.0 horas estacionado El importe a pagar es: 55\n",
      "Por 4.0 horas estacionado El importe a pagar es: 70\n",
      "Por 5.0 horas estacionado El importe a pagar es: 85\n",
      "Por 6.0 horas estacionado El importe a pagar es: 100\n",
      "Por 7.0 horas estacionado El importe a pagar es: 115\n",
      "Por 8.0 horas estacionado El importe a pagar es: 330\n",
      "Por 9.0 horas estacionado El importe a pagar es: 345\n",
      "Por 10.0 horas estacionado El importe a pagar es: 360\n",
      "Por 0.5 horas estacionado El importe a pagar es: 25\n",
      "Por 1.5 horas estacionado El importe a pagar es: 40\n",
      "Por 5.5 horas estacionado El importe a pagar es: 100\n"
     ]
    }
   ],
   "source": [
    "\n",
    "#Ejercicio Avanzado\n",
    "\n",
    "tiempo=float(input(\"Ingrese el tiempo de estacionamiento en horas (0 para salir):\"))\n",
    "while tiempo!=0:\n",
    "    while tiempo<0:\n",
    "        tiempo=float(input(\"El tiempo no puede ser negativo, intente de nuevo (0 para salir):\"))\n",
    "    if tiempo>0:\n",
    "        aux=tiempo\n",
    "        importe=25\n",
    "        conteo=1\n",
    "        aux-=1\n",
    "        while aux>0:\n",
    "            importe+=15\n",
    "            conteo+=1\n",
    "            aux-=1\n",
    "        if conteo>=8:\n",
    "            importe+=200\n",
    "        print(\"Por\",tiempo,\"horas estacionado El importe a pagar es:\",importe)\n",
    "        tiempo=float(input(\"Ingrese el tiempo de estacionamiento en horas (0 para salir):\"))\n"
   ]
  }
 ],
 "metadata": {
  "kernelspec": {
   "display_name": "Python 3.6.13 ('python_fundamentals')",
   "language": "python",
   "name": "python3"
  },
  "language_info": {
   "codemirror_mode": {
    "name": "ipython",
    "version": 3
   },
   "file_extension": ".py",
   "mimetype": "text/x-python",
   "name": "python",
   "nbconvert_exporter": "python",
   "pygments_lexer": "ipython3",
   "version": "3.6.13"
  },
  "orig_nbformat": 4,
  "vscode": {
   "interpreter": {
    "hash": "1a7dd868d12826be79773ac205a1faeacd38abc812368ce976421525fffc9939"
   }
  }
 },
 "nbformat": 4,
 "nbformat_minor": 2
}
