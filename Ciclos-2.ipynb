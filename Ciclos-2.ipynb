{
 "cells": [
  {
   "cell_type": "markdown",
   "id": "6f8f7ba3",
   "metadata": {},
   "source": [
    "# Ciclo : For"
   ]
  },
  {
   "cell_type": "code",
   "execution_count": 1,
   "id": "1e473f31",
   "metadata": {},
   "outputs": [],
   "source": [
    "numeros=[1,2,3,4,5,6,7]"
   ]
  },
  {
   "cell_type": "code",
   "execution_count": 2,
   "id": "a44c4b24",
   "metadata": {},
   "outputs": [
    {
     "data": {
      "text/plain": [
       "[1, 2, 3, 4, 5, 6, 7]"
      ]
     },
     "execution_count": 2,
     "metadata": {},
     "output_type": "execute_result"
    }
   ],
   "source": [
    "numeros"
   ]
  },
  {
   "cell_type": "code",
   "execution_count": 4,
   "id": "37ae7bb5",
   "metadata": {},
   "outputs": [
    {
     "name": "stdout",
     "output_type": "stream",
     "text": [
      "1\n",
      "2\n",
      "3\n",
      "4\n",
      "5\n",
      "6\n",
      "7\n"
     ]
    }
   ],
   "source": [
    "for i in numeros:\n",
    "    print(i)"
   ]
  },
  {
   "cell_type": "code",
   "execution_count": 5,
   "id": "89d64b7c",
   "metadata": {},
   "outputs": [
    {
     "name": "stdout",
     "output_type": "stream",
     "text": [
      "A\n",
      "B\n",
      "C\n"
     ]
    }
   ],
   "source": [
    "dict1={\"A\":2,\"B\":3,\"C\":4}\n",
    "for k in dict1:\n",
    "    print(k)"
   ]
  },
  {
   "cell_type": "code",
   "execution_count": 7,
   "id": "8178bf94",
   "metadata": {},
   "outputs": [
    {
     "name": "stdout",
     "output_type": "stream",
     "text": [
      "2\n",
      "3\n",
      "4\n"
     ]
    }
   ],
   "source": [
    "for l in dict1.values():\n",
    "    print(l)"
   ]
  },
  {
   "cell_type": "code",
   "execution_count": 9,
   "id": "008a9329",
   "metadata": {},
   "outputs": [
    {
     "name": "stdout",
     "output_type": "stream",
     "text": [
      "A 2\n",
      "B 3\n",
      "C 4\n"
     ]
    }
   ],
   "source": [
    "for k,l in dict1.items():\n",
    "    print(k,l)"
   ]
  },
  {
   "cell_type": "code",
   "execution_count": 10,
   "id": "de26b704",
   "metadata": {},
   "outputs": [
    {
     "name": "stdout",
     "output_type": "stream",
     "text": [
      "0\n",
      "2\n",
      "4\n",
      "6\n",
      "8\n",
      "10\n",
      "12\n",
      "14\n",
      "16\n",
      "18\n"
     ]
    }
   ],
   "source": [
    "for e in range(0,20,2):\n",
    "    print(e)"
   ]
  },
  {
   "cell_type": "code",
   "execution_count": 11,
   "id": "9404f211",
   "metadata": {},
   "outputs": [
    {
     "data": {
      "text/plain": [
       "[1, 2, 3, 4, 5, 6, 7]"
      ]
     },
     "execution_count": 11,
     "metadata": {},
     "output_type": "execute_result"
    }
   ],
   "source": [
    "numeros"
   ]
  },
  {
   "cell_type": "code",
   "execution_count": 12,
   "id": "5db75082",
   "metadata": {},
   "outputs": [
    {
     "name": "stdout",
     "output_type": "stream",
     "text": [
      "1\n",
      "2\n",
      "3\n",
      "4\n"
     ]
    }
   ],
   "source": [
    "for n in numeros:\n",
    "    if n==5:\n",
    "        break\n",
    "    print(n)"
   ]
  },
  {
   "cell_type": "code",
   "execution_count": 15,
   "id": "7b5988ac",
   "metadata": {},
   "outputs": [
    {
     "name": "stdout",
     "output_type": "stream",
     "text": [
      "1\n",
      "2\n",
      "3\n",
      "4\n",
      "6\n",
      "7\n"
     ]
    }
   ],
   "source": [
    "for n in numeros:\n",
    "    if n==5:\n",
    "        continue\n",
    "    print(n)"
   ]
  },
  {
   "cell_type": "markdown",
   "id": "e780b02d",
   "metadata": {},
   "source": [
    "# Ejercicio (Básico)"
   ]
  },
  {
   "cell_type": "code",
   "execution_count": 25,
   "id": "e381f7cc",
   "metadata": {},
   "outputs": [
    {
     "name": "stdout",
     "output_type": "stream",
     "text": [
      "Nombre: Miguel \tValor: 18\n",
      "Nombre: Edwin \tValor: 23\n",
      "Nombre: Erick \tValor: 28\n",
      "Nombre: Pedro \tValor: 16\n",
      "Nombre: Pau \tValor: 25\n",
      "Nombre: Liliana \tValor: 20\n",
      "Nombre: MArco \tValor: 25\n",
      "Nombre: Claudia \tValor: 21\n",
      "Nombre: Roland \tValor: 25\n",
      "Nombre: Gerardo \tValor: 9\n",
      "Nombre: Jonathan \tValor: 15\n",
      "Nombre: Paco \tValor: 13\n",
      "Nombre: Yolanda \tValor: 4\n",
      "Nombre: Julio \tValor: 28\n",
      "Nombre: Victor \tValor: 3\n",
      "Nombre: Gustavo \tValor: 8\n",
      "Nombre: Paulina \tValor: 25\n",
      "El valor Máximo es: 28\n",
      "El valor Mínimo es: 3\n"
     ]
    }
   ],
   "source": [
    "dict2={\"Miguel\":18,\"Edwin\":23,\"Erick\":28,\"Pedro\":16,\"Pau\":25,\"Liliana\":20,\"MArco\":25,\"Claudia\":21,\"Roland\":25,\"Gerardo\":9,\"Jonathan\":15,\"Paco\":13,\"Yolanda\":4,\"Julio\":28,\"Victor\":3,\"Gustavo\":8,\"Paulina\":25}\n",
    "for key,value in dict2.items():\n",
    "    print(\"Nombre:\",key,\"\\tValor:\",value)\n",
    "print(\"El valor Máximo es:\",max(dict2.values()))\n",
    "print(\"El valor Mínimo es:\",min(dict2.values()))"
   ]
  },
  {
   "cell_type": "markdown",
   "id": "6176ac7c",
   "metadata": {},
   "source": [
    "# Ejercicio (Avanzado)"
   ]
  },
  {
   "cell_type": "code",
   "execution_count": 27,
   "id": "2874b4a2",
   "metadata": {},
   "outputs": [],
   "source": [
    "import numpy as np"
   ]
  },
  {
   "cell_type": "code",
   "execution_count": 33,
   "id": "ce899555",
   "metadata": {},
   "outputs": [
    {
     "name": "stdout",
     "output_type": "stream",
     "text": [
      "Nombre: Miguel \tValor: 6.648119311041162\n",
      "Nombre: Edwin \tValor: 38.97885342961776\n",
      "Nombre: Erick \tValor: 43.8924697135265\n",
      "Nombre: Pedro \tValor: 22.061053284829864\n",
      "Nombre: Pau \tValor: 18.132970554192546\n",
      "Nombre: Liliana \tValor: 43.9237711272889\n",
      "Nombre: MArco \tValor: 38.847183271011765\n",
      "Nombre: Claudia \tValor: 48.68208639817543\n",
      "Nombre: Roland \tValor: 40.50409599372244\n",
      "Nombre: Gerardo \tValor: 3.616768979404028\n",
      "Nombre: Jonathan \tValor: 27.194478969356272\n",
      "Nombre: Paco \tValor: 28.52490808283217\n",
      "Nombre: Yolanda \tValor: 13.659477254619112\n",
      "Nombre: Julio \tValor: 30.918844333075896\n",
      "Nombre: Victor \tValor: 38.623370257769665\n",
      "Nombre: Gustavo \tValor: 13.901329274471264\n",
      "Nombre: Paulina \tValor: 0.3607112309627514\n",
      "El valor Máximo es: 48.68208639817543\n",
      "El valor Mínimo es: 0.3607112309627514\n"
     ]
    }
   ],
   "source": [
    "dict3={}\n",
    "list3=[\"Miguel\",\"Edwin\",\"Erick\",\"Pedro\",\"Pau\",\"Liliana\",\"MArco\",\"Claudia\",\"Roland\",\"Gerardo\",\"Jonathan\",\"Paco\",\"Yolanda\",\"Julio\",\"Victor\",\"Gustavo\",\"Paulina\"]\n",
    "for nombre in list3:\n",
    "    valor=np.random.random() * 50\n",
    "    dict3.update({nombre:valor})\n",
    "for key,value in dict3.items():\n",
    "    print(\"Nombre:\",key,\"\\tValor:\",value)\n",
    "print(\"El valor Máximo es:\",max(dict3.values()))\n",
    "print(\"El valor Mínimo es:\",min(dict3.values()))"
   ]
  },
  {
   "cell_type": "markdown",
   "id": "58cb5336",
   "metadata": {},
   "source": [
    "# Ciclo : While"
   ]
  },
  {
   "cell_type": "code",
   "execution_count": 35,
   "id": "ccfd709e",
   "metadata": {},
   "outputs": [
    {
     "name": "stdout",
     "output_type": "stream",
     "text": [
      "Captura un numero positivo:-5\n",
      "El número escrito no es positivo, intente de nuevo:-7\n",
      "El número escrito no es positivo, intente de nuevo:-1\n",
      "El número escrito no es positivo, intente de nuevo:0\n",
      "Gracias!\n"
     ]
    }
   ],
   "source": [
    "numero=int(input(\"Captura un numero positivo:\"))\n",
    "while numero<0:\n",
    "    numero=int(input(\"El número escrito no es positivo, intente de nuevo:\"))\n",
    "print(\"Gracias!\")"
   ]
  },
  {
   "cell_type": "code",
   "execution_count": 36,
   "id": "7230dfa6",
   "metadata": {},
   "outputs": [
    {
     "name": "stdout",
     "output_type": "stream",
     "text": [
      "La suma es 55\n"
     ]
    }
   ],
   "source": [
    "num0=1\n",
    "num1=0\n",
    "while num0 <= 10:\n",
    "    num1+=num0\n",
    "    num0+=1\n",
    "print(\"La suma es \" + str(num1))"
   ]
  },
  {
   "cell_type": "code",
   "execution_count": 37,
   "id": "87302582",
   "metadata": {},
   "outputs": [
    {
     "name": "stdout",
     "output_type": "stream",
     "text": [
      "Ingrese la nota del estudiante (-1 para salir):\n",
      "5\n",
      "Ingrese la nota del estudiante (-1 para salir):7\n",
      "Ingrese la nota del estudiante (-1 para salir):9\n",
      "Ingrese la nota del estudiante (-1 para salir):8\n",
      "Ingrese la nota del estudiante (-1 para salir):9\n",
      "Ingrese la nota del estudiante (-1 para salir):7\n",
      "Ingrese la nota del estudiante (-1 para salir):5\n",
      "Ingrese la nota del estudiante (-1 para salir):7\n",
      "Ingrese la nota del estudiante (-1 para salir):8\n",
      "Ingrese la nota del estudiante (-1 para salir):-1\n",
      "El promedio de las notas es:7.222222222222222\n"
     ]
    }
   ],
   "source": [
    "total=0\n",
    "conteo=0\n",
    "print(\"Ingrese la nota del estudiante (-1 para salir):\")\n",
    "grado=float(input())\n",
    "while grado != -1:\n",
    "    total+=grado\n",
    "    conteo+=1\n",
    "    grado=float(input(\"Ingrese la nota del estudiante (-1 para salir):\"))\n",
    "prom=total / conteo\n",
    "print(\"El promedio de las notas es:\"+str(prom))"
   ]
  },
  {
   "cell_type": "code",
   "execution_count": null,
   "id": "2bf4317a",
   "metadata": {},
   "outputs": [],
   "source": []
  }
 ],
 "metadata": {
  "kernelspec": {
   "display_name": "Python 3",
   "language": "python",
   "name": "python3"
  },
  "language_info": {
   "codemirror_mode": {
    "name": "ipython",
    "version": 3
   },
   "file_extension": ".py",
   "mimetype": "text/x-python",
   "name": "python",
   "nbconvert_exporter": "python",
   "pygments_lexer": "ipython3",
   "version": "3.6.13"
  }
 },
 "nbformat": 4,
 "nbformat_minor": 5
}
