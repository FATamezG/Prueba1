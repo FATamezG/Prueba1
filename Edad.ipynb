{
 "cells": [
  {
   "cell_type": "code",
   "execution_count": 5,
   "metadata": {},
   "outputs": [
    {
     "name": "stdout",
     "output_type": "stream",
     "text": [
      "No eres mayor de edad!\n"
     ]
    }
   ],
   "source": [
    "edad=int(input(\"Cuántos años tienes cumplidos:\"))\n",
    "if edad>=18:\n",
    "    print(\"Si eres mayor de edad!\")\n",
    "else:\n",
    "    print(\"No eres mayor de edad!\")"
   ]
  },
  {
   "cell_type": "code",
   "execution_count": null,
   "metadata": {},
   "outputs": [],
   "source": []
  }
 ],
 "metadata": {
  "kernelspec": {
   "display_name": "Python 3.6.13 ('python_fundamentals')",
   "language": "python",
   "name": "python3"
  },
  "language_info": {
   "codemirror_mode": {
    "name": "ipython",
    "version": 3
   },
   "file_extension": ".py",
   "mimetype": "text/x-python",
   "name": "python",
   "nbconvert_exporter": "python",
   "pygments_lexer": "ipython3",
   "version": "3.6.13"
  },
  "orig_nbformat": 4,
  "vscode": {
   "interpreter": {
    "hash": "1a7dd868d12826be79773ac205a1faeacd38abc812368ce976421525fffc9939"
   }
  }
 },
 "nbformat": 4,
 "nbformat_minor": 2
}
