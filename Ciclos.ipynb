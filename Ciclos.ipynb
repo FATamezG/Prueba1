{
 "cells": [
  {
   "cell_type": "code",
   "execution_count": 1,
   "id": "40e1c84a",
   "metadata": {},
   "outputs": [],
   "source": [
    "a=5"
   ]
  },
  {
   "cell_type": "code",
   "execution_count": 2,
   "id": "eea90db6",
   "metadata": {},
   "outputs": [],
   "source": [
    "if a==3:\n",
    "    a*=3\n",
    "    print(a)"
   ]
  },
  {
   "cell_type": "code",
   "execution_count": 3,
   "id": "a4a14211",
   "metadata": {},
   "outputs": [],
   "source": [
    "a=3"
   ]
  },
  {
   "cell_type": "code",
   "execution_count": 4,
   "id": "73d6c5d7",
   "metadata": {},
   "outputs": [
    {
     "name": "stdout",
     "output_type": "stream",
     "text": [
      "9\n"
     ]
    }
   ],
   "source": [
    "if a==3:\n",
    "    a*=3\n",
    "    print(a)"
   ]
  },
  {
   "cell_type": "code",
   "execution_count": 8,
   "id": "2e3c2c7f",
   "metadata": {},
   "outputs": [
    {
     "name": "stdout",
     "output_type": "stream",
     "text": [
      "else 9\n"
     ]
    }
   ],
   "source": [
    "if a==3:\n",
    "    a*=3\n",
    "    print(\"if\",a)\n",
    "elif a>10:\n",
    "    a%=2\n",
    "    print(\"elif\",a)\n",
    "else:\n",
    "    print(\"else\",a)"
   ]
  },
  {
   "cell_type": "code",
   "execution_count": 9,
   "id": "3ab71440",
   "metadata": {},
   "outputs": [],
   "source": [
    "animales=[\"leon\",\"perro\", \"gato\",\"tigre\",\"toro\",\"murcielago\"]"
   ]
  },
  {
   "cell_type": "code",
   "execution_count": 11,
   "id": "2be82f88",
   "metadata": {},
   "outputs": [
    {
     "name": "stdout",
     "output_type": "stream",
     "text": [
      "El primer animal es leon, su longitud es 4\n"
     ]
    }
   ],
   "source": [
    "print(\"El primer animal es {0}, su longitud es {1}\".format(animales[0],len(animales[0])))"
   ]
  },
  {
   "cell_type": "markdown",
   "id": "698c872d",
   "metadata": {},
   "source": [
    "# Ejercicio 1"
   ]
  },
  {
   "cell_type": "code",
   "execution_count": 18,
   "id": "b99c0a61",
   "metadata": {},
   "outputs": [
    {
     "data": {
      "text/plain": [
       "(15, 30)"
      ]
     },
     "execution_count": 18,
     "metadata": {},
     "output_type": "execute_result"
    }
   ],
   "source": [
    "edadp1 = 15\n",
    "edadp2 = 30\n",
    "edadp1, edadp2"
   ]
  },
  {
   "cell_type": "code",
   "execution_count": 24,
   "id": "beae9f70",
   "metadata": {},
   "outputs": [
    {
     "name": "stdout",
     "output_type": "stream",
     "text": [
      "La primer persona no es mayor de edad, tiene 15 años\n",
      "La primer persona sí es mayor de edad, tiene 30 años\n"
     ]
    }
   ],
   "source": [
    "if edadp1 >= 18:\n",
    "    print(\"La primer persona sí es mayor de edad, tiene {0} años\".format(edadp1))\n",
    "elif edadp1 < 18:\n",
    "    print(\"La primer persona no es mayor de edad, tiene {0} años\".format(edadp1));\n",
    "if edadp2 >= 18:\n",
    "    print(\"La primer persona sí es mayor de edad, tiene {0} años\".format(edadp2))\n",
    "elif edadp2 < 18:\n",
    "    print(\"La primer persona no es mayor de edad, tiene {0} años\".format(edadp2))"
   ]
  },
  {
   "cell_type": "markdown",
   "id": "53b6167b",
   "metadata": {},
   "source": [
    "# Captura de Datos de Entrada"
   ]
  },
  {
   "cell_type": "code",
   "execution_count": 27,
   "id": "d3d9a908",
   "metadata": {},
   "outputs": [
    {
     "name": "stdout",
     "output_type": "stream",
     "text": [
      "Por favor, escriba su edad (en números enteros): 5\n"
     ]
    }
   ],
   "source": [
    "edad=int(input(\"Por favor, escriba su edad (en números enteros): \"))"
   ]
  },
  {
   "cell_type": "markdown",
   "id": "a93cb988",
   "metadata": {},
   "source": [
    "# Ejercicio 2"
   ]
  },
  {
   "cell_type": "code",
   "execution_count": 37,
   "id": "c26d0a0b",
   "metadata": {},
   "outputs": [
    {
     "name": "stdout",
     "output_type": "stream",
     "text": [
      "Capture el valor del primer número: 5.1\n",
      "Capture el valor del segundo número: 5\n",
      "El primer número (5.1) es mayor que el segundo (5)\n"
     ]
    }
   ],
   "source": [
    "num1=input(\"Capture el valor del primer número: \")\n",
    "num2=input(\"Capture el valor del segundo número: \")\n",
    "if num1 > num2:\n",
    "    print(\"El primer número ({0}) es mayor que el segundo ({1})\".format(num1,num2))\n",
    "elif num1 < num2:\n",
    "    print(\"El segundo número ({0}) es mayor que el primero ({1})\".format(num2,num1))\n",
    "else:\n",
    "    print(\"Los dos números son iguales ({0} y {1})\".format(num1,num2))"
   ]
  },
  {
   "cell_type": "code",
   "execution_count": null,
   "id": "48ddadf7",
   "metadata": {},
   "outputs": [],
   "source": []
  }
 ],
 "metadata": {
  "kernelspec": {
   "display_name": "Python 3",
   "language": "python",
   "name": "python3"
  },
  "language_info": {
   "codemirror_mode": {
    "name": "ipython",
    "version": 3
   },
   "file_extension": ".py",
   "mimetype": "text/x-python",
   "name": "python",
   "nbconvert_exporter": "python",
   "pygments_lexer": "ipython3",
   "version": "3.6.13"
  }
 },
 "nbformat": 4,
 "nbformat_minor": 5
}
