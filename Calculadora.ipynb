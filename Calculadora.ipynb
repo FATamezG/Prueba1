{
 "cells": [
  {
   "cell_type": "markdown",
   "id": "e09d2baa",
   "metadata": {},
   "source": [
    "# Calculadora Básica"
   ]
  },
  {
   "cell_type": "code",
   "execution_count": 1,
   "id": "c84fc714",
   "metadata": {},
   "outputs": [],
   "source": [
    "class calculadora:\n",
    "    ''' Clase para una calculadora '''\n",
    "    \n",
    "    def suma(self, op1, op2):\n",
    "        ''' Efectua una suma entre op1 y op2 '''\n",
    "        \n",
    "        return op1 + op2\n",
    "    \n",
    "    def resta(self, op1, op2):\n",
    "        ''' Efectua una resta entre op1 y op2 '''\n",
    "        \n",
    "        return op1 - op2\n",
    "    \n",
    "    def multiplica(self, op1, op2):\n",
    "        ''' Efectua una multiplicación entre op1 y op2 '''\n",
    "        \n",
    "        return op1 * op2\n",
    "    \n",
    "    def division(self, op1, op2):\n",
    "        ''' Efectua una suma entre op1 y op2 '''\n",
    "        \n",
    "        return op1 / op2\n",
    "    "
   ]
  },
  {
   "cell_type": "code",
   "execution_count": 5,
   "id": "0643447d",
   "metadata": {},
   "outputs": [
    {
     "data": {
      "text/plain": [
       "7"
      ]
     },
     "execution_count": 5,
     "metadata": {},
     "output_type": "execute_result"
    }
   ],
   "source": [
    "calculadora().suma(3, 4)"
   ]
  },
  {
   "cell_type": "code",
   "execution_count": 6,
   "id": "b0d2c904",
   "metadata": {},
   "outputs": [
    {
     "data": {
      "text/plain": [
       "7"
      ]
     },
     "execution_count": 6,
     "metadata": {},
     "output_type": "execute_result"
    }
   ],
   "source": [
    "calculadora().resta(15,8)"
   ]
  },
  {
   "cell_type": "code",
   "execution_count": 7,
   "id": "03c90b32",
   "metadata": {},
   "outputs": [
    {
     "data": {
      "text/plain": [
       "35"
      ]
     },
     "execution_count": 7,
     "metadata": {},
     "output_type": "execute_result"
    }
   ],
   "source": [
    "calculadora().multiplica(5,7)"
   ]
  },
  {
   "cell_type": "code",
   "execution_count": 9,
   "id": "377b40ad",
   "metadata": {},
   "outputs": [
    {
     "data": {
      "text/plain": [
       "4.5"
      ]
     },
     "execution_count": 9,
     "metadata": {},
     "output_type": "execute_result"
    }
   ],
   "source": [
    "calculadora().division(9,2)"
   ]
  },
  {
   "cell_type": "markdown",
   "id": "32a33e8d",
   "metadata": {},
   "source": [
    "# Calculadora Avanzada"
   ]
  },
  {
   "cell_type": "code",
   "execution_count": 20,
   "id": "0bd371c6",
   "metadata": {},
   "outputs": [],
   "source": [
    "class calculadora_extendida(calculadora):\n",
    "    ''' SubClase para agregar operaciones avanzadas a la clase calculadora '''\n",
    "    \n",
    "    def raiz(self, op1, op2):\n",
    "        ''' Obtiene la raiz cuadrada del valor op1'''\n",
    "        \n",
    "        return op1 ** (1/op2)\n",
    "    \n",
    "    def potencia(self, op1, op2):\n",
    "        \n",
    "        return op1 ** op2\n",
    "    "
   ]
  },
  {
   "cell_type": "code",
   "execution_count": 21,
   "id": "af7543f0",
   "metadata": {},
   "outputs": [
    {
     "data": {
      "text/plain": [
       "7"
      ]
     },
     "execution_count": 21,
     "metadata": {},
     "output_type": "execute_result"
    }
   ],
   "source": [
    "calculadora_extendida().suma(3, 4)"
   ]
  },
  {
   "cell_type": "code",
   "execution_count": 25,
   "id": "c3666fbd",
   "metadata": {},
   "outputs": [
    {
     "data": {
      "text/plain": [
       "2.0"
      ]
     },
     "execution_count": 25,
     "metadata": {},
     "output_type": "execute_result"
    }
   ],
   "source": [
    "calculadora_extendida().raiz(8, 3)"
   ]
  },
  {
   "cell_type": "code",
   "execution_count": 26,
   "id": "3dc0163d",
   "metadata": {},
   "outputs": [
    {
     "data": {
      "text/plain": [
       "81"
      ]
     },
     "execution_count": 26,
     "metadata": {},
     "output_type": "execute_result"
    }
   ],
   "source": [
    "calculadora_extendida().potencia(3, 4)"
   ]
  },
  {
   "cell_type": "code",
   "execution_count": null,
   "id": "b4842cd9",
   "metadata": {},
   "outputs": [],
   "source": []
  }
 ],
 "metadata": {
  "kernelspec": {
   "display_name": "Python 3",
   "language": "python",
   "name": "python3"
  },
  "language_info": {
   "codemirror_mode": {
    "name": "ipython",
    "version": 3
   },
   "file_extension": ".py",
   "mimetype": "text/x-python",
   "name": "python",
   "nbconvert_exporter": "python",
   "pygments_lexer": "ipython3",
   "version": "3.6.13"
  }
 },
 "nbformat": 4,
 "nbformat_minor": 5
}
