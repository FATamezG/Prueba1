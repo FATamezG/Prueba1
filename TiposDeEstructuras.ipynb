{
 "cells": [
  {
   "cell_type": "markdown",
   "id": "728f0922",
   "metadata": {},
   "source": [
    "# OPERACIONES BASICAS"
   ]
  },
  {
   "cell_type": "code",
   "execution_count": 2,
   "id": "53885856",
   "metadata": {},
   "outputs": [
    {
     "name": "stdout",
     "output_type": "stream",
     "text": [
      "Hola mis amigos\n"
     ]
    }
   ],
   "source": [
    "print(\"Hola mis amigos\")"
   ]
  },
  {
   "cell_type": "code",
   "execution_count": 3,
   "id": "49bcfb31",
   "metadata": {},
   "outputs": [
    {
     "data": {
      "text/plain": [
       "8"
      ]
     },
     "execution_count": 3,
     "metadata": {},
     "output_type": "execute_result"
    }
   ],
   "source": [
    "3+5"
   ]
  },
  {
   "cell_type": "code",
   "execution_count": 4,
   "id": "d71e4384",
   "metadata": {},
   "outputs": [
    {
     "data": {
      "text/plain": [
       "5"
      ]
     },
     "execution_count": 4,
     "metadata": {},
     "output_type": "execute_result"
    }
   ],
   "source": [
    "8-3"
   ]
  },
  {
   "cell_type": "code",
   "execution_count": 5,
   "id": "d3d74f00",
   "metadata": {},
   "outputs": [
    {
     "data": {
      "text/plain": [
       "12"
      ]
     },
     "execution_count": 5,
     "metadata": {},
     "output_type": "execute_result"
    }
   ],
   "source": [
    "3*4"
   ]
  },
  {
   "cell_type": "code",
   "execution_count": 6,
   "id": "035c8270",
   "metadata": {},
   "outputs": [
    {
     "data": {
      "text/plain": [
       "2.8"
      ]
     },
     "execution_count": 6,
     "metadata": {},
     "output_type": "execute_result"
    }
   ],
   "source": [
    "14/5"
   ]
  },
  {
   "cell_type": "code",
   "execution_count": 7,
   "id": "2df2e6f8",
   "metadata": {},
   "outputs": [],
   "source": [
    "x=100"
   ]
  },
  {
   "cell_type": "code",
   "execution_count": 8,
   "id": "6b18ef23",
   "metadata": {},
   "outputs": [
    {
     "data": {
      "text/plain": [
       "100"
      ]
     },
     "execution_count": 8,
     "metadata": {},
     "output_type": "execute_result"
    }
   ],
   "source": [
    "x"
   ]
  },
  {
   "cell_type": "code",
   "execution_count": 10,
   "id": "dc05673d",
   "metadata": {},
   "outputs": [
    {
     "data": {
      "text/plain": [
       "int"
      ]
     },
     "execution_count": 10,
     "metadata": {},
     "output_type": "execute_result"
    }
   ],
   "source": [
    "type(x)"
   ]
  },
  {
   "cell_type": "code",
   "execution_count": 13,
   "id": "6150b539",
   "metadata": {},
   "outputs": [
    {
     "data": {
      "text/plain": [
       "3"
      ]
     },
     "execution_count": 13,
     "metadata": {},
     "output_type": "execute_result"
    }
   ],
   "source": [
    "3%7"
   ]
  },
  {
   "cell_type": "code",
   "execution_count": 14,
   "id": "b81e6fd7",
   "metadata": {},
   "outputs": [
    {
     "data": {
      "text/plain": [
       "0.42857142857142855"
      ]
     },
     "execution_count": 14,
     "metadata": {},
     "output_type": "execute_result"
    }
   ],
   "source": [
    "3/7"
   ]
  },
  {
   "cell_type": "code",
   "execution_count": 16,
   "id": "b937bfde",
   "metadata": {},
   "outputs": [
    {
     "data": {
      "text/plain": [
       "0"
      ]
     },
     "execution_count": 16,
     "metadata": {},
     "output_type": "execute_result"
    }
   ],
   "source": [
    "3//7"
   ]
  },
  {
   "cell_type": "code",
   "execution_count": 17,
   "id": "0170edab",
   "metadata": {},
   "outputs": [
    {
     "data": {
      "text/plain": [
       "8"
      ]
     },
     "execution_count": 17,
     "metadata": {},
     "output_type": "execute_result"
    }
   ],
   "source": [
    "2**3"
   ]
  },
  {
   "cell_type": "code",
   "execution_count": 19,
   "id": "6286f4d9",
   "metadata": {},
   "outputs": [
    {
     "name": "stdout",
     "output_type": "stream",
     "text": [
      "Ejemplo comentario\n"
     ]
    }
   ],
   "source": [
    "# Este es un comentario\n",
    "print(\"Ejemplo comentario\")"
   ]
  },
  {
   "cell_type": "code",
   "execution_count": 20,
   "id": "e7eb05a3",
   "metadata": {},
   "outputs": [
    {
     "data": {
      "text/plain": [
       "30"
      ]
     },
     "execution_count": 20,
     "metadata": {},
     "output_type": "execute_result"
    }
   ],
   "source": [
    "5*6 # Este también es un comentario"
   ]
  },
  {
   "cell_type": "code",
   "execution_count": 21,
   "id": "937d954d",
   "metadata": {},
   "outputs": [
    {
     "name": "stdout",
     "output_type": "stream",
     "text": [
      "38\n"
     ]
    }
   ],
   "source": [
    "c1=15\n",
    "c2=23\n",
    "print(c1+c2)"
   ]
  },
  {
   "cell_type": "code",
   "execution_count": 22,
   "id": "e34482b3",
   "metadata": {},
   "outputs": [
    {
     "data": {
      "text/plain": [
       "{'__name__': '__main__',\n",
       " '__doc__': 'Automatically created module for IPython interactive environment',\n",
       " '__package__': None,\n",
       " '__loader__': None,\n",
       " '__spec__': None,\n",
       " '__builtin__': <module 'builtins' (built-in)>,\n",
       " '__builtins__': <module 'builtins' (built-in)>,\n",
       " '_ih': ['',\n",
       "  'print(\"Hola mis amigos\")',\n",
       "  'print(\"Hola mis amigos\")',\n",
       "  '3+5',\n",
       "  '8-3',\n",
       "  '3*4',\n",
       "  '14/5',\n",
       "  'x=100',\n",
       "  'x',\n",
       "  'type x',\n",
       "  'type(x)',\n",
       "  'boleano=true',\n",
       "  'boleano=1=2',\n",
       "  '3%7',\n",
       "  '3/7',\n",
       "  '3//7',\n",
       "  '3//7',\n",
       "  '2**3',\n",
       "  '# Este es un comentario\\nPrint(\"Ejemplo comentario\")',\n",
       "  '# Este es un comentario\\nprint(\"Ejemplo comentario\")',\n",
       "  '5*6 # Este también es un comentario',\n",
       "  'c1=15\\nc2=23\\nprint(c1+c2)',\n",
       "  'vars()'],\n",
       " '_oh': {3: 8,\n",
       "  4: 5,\n",
       "  5: 12,\n",
       "  6: 2.8,\n",
       "  8: 100,\n",
       "  10: int,\n",
       "  13: 3,\n",
       "  14: 0.42857142857142855,\n",
       "  15: 0,\n",
       "  16: 0,\n",
       "  17: 8,\n",
       "  20: 30},\n",
       " '_dh': ['C:\\\\Users\\\\francisco.tamez\\\\Documents\\\\PythonFundamentals'],\n",
       " 'In': ['',\n",
       "  'print(\"Hola mis amigos\")',\n",
       "  'print(\"Hola mis amigos\")',\n",
       "  '3+5',\n",
       "  '8-3',\n",
       "  '3*4',\n",
       "  '14/5',\n",
       "  'x=100',\n",
       "  'x',\n",
       "  'type x',\n",
       "  'type(x)',\n",
       "  'boleano=true',\n",
       "  'boleano=1=2',\n",
       "  '3%7',\n",
       "  '3/7',\n",
       "  '3//7',\n",
       "  '3//7',\n",
       "  '2**3',\n",
       "  '# Este es un comentario\\nPrint(\"Ejemplo comentario\")',\n",
       "  '# Este es un comentario\\nprint(\"Ejemplo comentario\")',\n",
       "  '5*6 # Este también es un comentario',\n",
       "  'c1=15\\nc2=23\\nprint(c1+c2)',\n",
       "  'vars()'],\n",
       " 'Out': {3: 8,\n",
       "  4: 5,\n",
       "  5: 12,\n",
       "  6: 2.8,\n",
       "  8: 100,\n",
       "  10: int,\n",
       "  13: 3,\n",
       "  14: 0.42857142857142855,\n",
       "  15: 0,\n",
       "  16: 0,\n",
       "  17: 8,\n",
       "  20: 30},\n",
       " 'get_ipython': <bound method InteractiveShell.get_ipython of <ipykernel.zmqshell.ZMQInteractiveShell object at 0x000001A76F842F60>>,\n",
       " 'exit': <IPython.core.autocall.ZMQExitAutocall at 0x1a76f8f4da0>,\n",
       " 'quit': <IPython.core.autocall.ZMQExitAutocall at 0x1a76f8f4da0>,\n",
       " '_': 30,\n",
       " '__': 8,\n",
       " '___': 0,\n",
       " '_i': 'c1=15\\nc2=23\\nprint(c1+c2)',\n",
       " '_ii': '5*6 # Este también es un comentario',\n",
       " '_iii': '# Este es un comentario\\nprint(\"Ejemplo comentario\")',\n",
       " '_i1': 'print(\"Hola mis amigos\")',\n",
       " '_i2': 'print(\"Hola mis amigos\")',\n",
       " '_i3': '3+5',\n",
       " '_3': 8,\n",
       " '_i4': '8-3',\n",
       " '_4': 5,\n",
       " '_i5': '3*4',\n",
       " '_5': 12,\n",
       " '_i6': '14/5',\n",
       " '_6': 2.8,\n",
       " '_i7': 'x=100',\n",
       " 'x': 100,\n",
       " '_i8': 'x',\n",
       " '_8': 100,\n",
       " '_i9': 'type x',\n",
       " '_i10': 'type(x)',\n",
       " '_10': int,\n",
       " '_i11': 'boleano=true',\n",
       " '_i12': 'boleano=1=2',\n",
       " '_i13': '3%7',\n",
       " '_13': 3,\n",
       " '_i14': '3/7',\n",
       " '_14': 0.42857142857142855,\n",
       " '_i15': '3//7',\n",
       " '_15': 0,\n",
       " '_i16': '3//7',\n",
       " '_16': 0,\n",
       " '_i17': '2**3',\n",
       " '_17': 8,\n",
       " '_i18': '# Este es un comentario\\nPrint(\"Ejemplo comentario\")',\n",
       " '_i19': '# Este es un comentario\\nprint(\"Ejemplo comentario\")',\n",
       " '_i20': '5*6 # Este también es un comentario',\n",
       " '_20': 30,\n",
       " '_i21': 'c1=15\\nc2=23\\nprint(c1+c2)',\n",
       " 'c1': 15,\n",
       " 'c2': 23,\n",
       " '_i22': 'vars()'}"
      ]
     },
     "execution_count": 22,
     "metadata": {},
     "output_type": "execute_result"
    }
   ],
   "source": [
    "vars()"
   ]
  },
  {
   "cell_type": "code",
   "execution_count": 24,
   "id": "c7fd905d",
   "metadata": {},
   "outputs": [],
   "source": [
    "var1=\"Valor Original\"\n",
    "def cambia_var1():\n",
    "    global var1\n",
    "    var1='Nuevo valor'"
   ]
  },
  {
   "cell_type": "code",
   "execution_count": 25,
   "id": "1660505b",
   "metadata": {},
   "outputs": [
    {
     "data": {
      "text/plain": [
       "'Valor Original'"
      ]
     },
     "execution_count": 25,
     "metadata": {},
     "output_type": "execute_result"
    }
   ],
   "source": [
    "var1"
   ]
  },
  {
   "cell_type": "code",
   "execution_count": 26,
   "id": "4a466506",
   "metadata": {},
   "outputs": [],
   "source": [
    "cambia_var1()"
   ]
  },
  {
   "cell_type": "code",
   "execution_count": 27,
   "id": "4a28e119",
   "metadata": {},
   "outputs": [
    {
     "data": {
      "text/plain": [
       "'Nuevo valor'"
      ]
     },
     "execution_count": 27,
     "metadata": {},
     "output_type": "execute_result"
    }
   ],
   "source": [
    "var1"
   ]
  },
  {
   "cell_type": "code",
   "execution_count": 28,
   "id": "3e1a5413",
   "metadata": {},
   "outputs": [
    {
     "data": {
      "text/plain": [
       "False"
      ]
     },
     "execution_count": 28,
     "metadata": {},
     "output_type": "execute_result"
    }
   ],
   "source": [
    "False"
   ]
  },
  {
   "cell_type": "code",
   "execution_count": 29,
   "id": "7c2c39ac",
   "metadata": {},
   "outputs": [
    {
     "data": {
      "text/plain": [
       "True"
      ]
     },
     "execution_count": 29,
     "metadata": {},
     "output_type": "execute_result"
    }
   ],
   "source": [
    "True"
   ]
  },
  {
   "cell_type": "code",
   "execution_count": 30,
   "id": "e65ef268",
   "metadata": {},
   "outputs": [
    {
     "data": {
      "text/plain": [
       "True"
      ]
     },
     "execution_count": 30,
     "metadata": {},
     "output_type": "execute_result"
    }
   ],
   "source": [
    "False==False"
   ]
  },
  {
   "cell_type": "code",
   "execution_count": 31,
   "id": "c79d5884",
   "metadata": {},
   "outputs": [
    {
     "data": {
      "text/plain": [
       "True"
      ]
     },
     "execution_count": 31,
     "metadata": {},
     "output_type": "execute_result"
    }
   ],
   "source": [
    "0==False"
   ]
  },
  {
   "cell_type": "code",
   "execution_count": 32,
   "id": "b11e8f27",
   "metadata": {},
   "outputs": [
    {
     "data": {
      "text/plain": [
       "0"
      ]
     },
     "execution_count": 32,
     "metadata": {},
     "output_type": "execute_result"
    }
   ],
   "source": [
    "int(False)"
   ]
  },
  {
   "cell_type": "code",
   "execution_count": 33,
   "id": "e46c5a07",
   "metadata": {},
   "outputs": [
    {
     "data": {
      "text/plain": [
       "1"
      ]
     },
     "execution_count": 33,
     "metadata": {},
     "output_type": "execute_result"
    }
   ],
   "source": [
    "int(True)"
   ]
  },
  {
   "cell_type": "code",
   "execution_count": 36,
   "id": "46d167db",
   "metadata": {},
   "outputs": [
    {
     "data": {
      "text/plain": [
       "False"
      ]
     },
     "execution_count": 36,
     "metadata": {},
     "output_type": "execute_result"
    }
   ],
   "source": [
    "None==\"\""
   ]
  },
  {
   "cell_type": "code",
   "execution_count": 37,
   "id": "9e89967b",
   "metadata": {},
   "outputs": [
    {
     "data": {
      "text/plain": [
       "False"
      ]
     },
     "execution_count": 37,
     "metadata": {},
     "output_type": "execute_result"
    }
   ],
   "source": [
    "None==\" \""
   ]
  },
  {
   "cell_type": "markdown",
   "id": "48611c54",
   "metadata": {},
   "source": [
    "# LISTAS"
   ]
  },
  {
   "cell_type": "code",
   "execution_count": 38,
   "id": "675b40a4",
   "metadata": {},
   "outputs": [],
   "source": [
    "# Una lista se define con [] y los elementos se separan con comas\n",
    "factura=[\"queso\",70,\"pollo\",80]"
   ]
  },
  {
   "cell_type": "code",
   "execution_count": 39,
   "id": "f4c41e5c",
   "metadata": {},
   "outputs": [
    {
     "data": {
      "text/plain": [
       "['queso', 70, 'pollo', 80]"
      ]
     },
     "execution_count": 39,
     "metadata": {},
     "output_type": "execute_result"
    }
   ],
   "source": [
    "factura"
   ]
  },
  {
   "cell_type": "code",
   "execution_count": 40,
   "id": "3ecf5bb7",
   "metadata": {},
   "outputs": [
    {
     "data": {
      "text/plain": [
       "list"
      ]
     },
     "execution_count": 40,
     "metadata": {},
     "output_type": "execute_result"
    }
   ],
   "source": [
    "type(factura)"
   ]
  },
  {
   "cell_type": "code",
   "execution_count": 42,
   "id": "e5e52e58",
   "metadata": {},
   "outputs": [
    {
     "data": {
      "text/plain": [
       "'queso'"
      ]
     },
     "execution_count": 42,
     "metadata": {},
     "output_type": "execute_result"
    }
   ],
   "source": [
    "# Acceder a elementos de una lista es con el indice (inicia en 0 desde la izq\n",
    "# y -1 desde la derecha)\n",
    "factura[0]"
   ]
  },
  {
   "cell_type": "code",
   "execution_count": 43,
   "id": "a36e7115",
   "metadata": {},
   "outputs": [
    {
     "data": {
      "text/plain": [
       "80"
      ]
     },
     "execution_count": 43,
     "metadata": {},
     "output_type": "execute_result"
    }
   ],
   "source": [
    "factura[-1]"
   ]
  },
  {
   "cell_type": "code",
   "execution_count": 44,
   "id": "e06ff148",
   "metadata": {},
   "outputs": [],
   "source": [
    "factura[1]=65"
   ]
  },
  {
   "cell_type": "code",
   "execution_count": 45,
   "id": "739ecb70",
   "metadata": {},
   "outputs": [
    {
     "data": {
      "text/plain": [
       "['queso', 65, 'pollo', 80]"
      ]
     },
     "execution_count": 45,
     "metadata": {},
     "output_type": "execute_result"
    }
   ],
   "source": [
    "factura"
   ]
  },
  {
   "cell_type": "code",
   "execution_count": 46,
   "id": "b1b0b41f",
   "metadata": {},
   "outputs": [],
   "source": [
    "factura.append(\"chiles\")"
   ]
  },
  {
   "cell_type": "code",
   "execution_count": 47,
   "id": "ef175c47",
   "metadata": {},
   "outputs": [
    {
     "data": {
      "text/plain": [
       "['queso', 65, 'pollo', 80, 'chiles']"
      ]
     },
     "execution_count": 47,
     "metadata": {},
     "output_type": "execute_result"
    }
   ],
   "source": [
    "factura"
   ]
  },
  {
   "cell_type": "code",
   "execution_count": 49,
   "id": "56fc63fc",
   "metadata": {},
   "outputs": [],
   "source": [
    "factura.append(50)\n",
    "factura.append(\"chiles\")\n",
    "factura.append(40)"
   ]
  },
  {
   "cell_type": "code",
   "execution_count": 50,
   "id": "5c842c45",
   "metadata": {},
   "outputs": [
    {
     "data": {
      "text/plain": [
       "['queso', 65, 'pollo', 80, 'chiles', 50, 'chiles', 40]"
      ]
     },
     "execution_count": 50,
     "metadata": {},
     "output_type": "execute_result"
    }
   ],
   "source": [
    "factura"
   ]
  },
  {
   "cell_type": "code",
   "execution_count": 51,
   "id": "927ef574",
   "metadata": {},
   "outputs": [
    {
     "data": {
      "text/plain": [
       "2"
      ]
     },
     "execution_count": 51,
     "metadata": {},
     "output_type": "execute_result"
    }
   ],
   "source": [
    "factura.count(\"chiles\") # cuenta las ocurrencias de un elemento en la lista"
   ]
  },
  {
   "cell_type": "code",
   "execution_count": 52,
   "id": "3bec029b",
   "metadata": {},
   "outputs": [],
   "source": [
    "factura.extend(range(10,15))"
   ]
  },
  {
   "cell_type": "code",
   "execution_count": 53,
   "id": "614558cb",
   "metadata": {},
   "outputs": [
    {
     "data": {
      "text/plain": [
       "['queso', 65, 'pollo', 80, 'chiles', 50, 'chiles', 40, 10, 11, 12, 13, 14]"
      ]
     },
     "execution_count": 53,
     "metadata": {},
     "output_type": "execute_result"
    }
   ],
   "source": [
    "factura"
   ]
  },
  {
   "cell_type": "code",
   "execution_count": 54,
   "id": "d65e85dd",
   "metadata": {},
   "outputs": [
    {
     "data": {
      "text/plain": [
       "8"
      ]
     },
     "execution_count": 54,
     "metadata": {},
     "output_type": "execute_result"
    }
   ],
   "source": [
    "factura.index(10) # El indice comienza con el 0"
   ]
  },
  {
   "cell_type": "code",
   "execution_count": 55,
   "id": "57cbdb78",
   "metadata": {},
   "outputs": [
    {
     "data": {
      "text/plain": [
       "14"
      ]
     },
     "execution_count": 55,
     "metadata": {},
     "output_type": "execute_result"
    }
   ],
   "source": [
    "factura.pop()"
   ]
  },
  {
   "cell_type": "code",
   "execution_count": 56,
   "id": "feceaf3b",
   "metadata": {},
   "outputs": [
    {
     "data": {
      "text/plain": [
       "['queso', 65, 'pollo', 80, 'chiles', 50, 'chiles', 40, 10, 11, 12, 13]"
      ]
     },
     "execution_count": 56,
     "metadata": {},
     "output_type": "execute_result"
    }
   ],
   "source": [
    "factura"
   ]
  },
  {
   "cell_type": "code",
   "execution_count": 57,
   "id": "c16c2afa",
   "metadata": {},
   "outputs": [],
   "source": [
    "factura.insert(10,\"Hola\")"
   ]
  },
  {
   "cell_type": "code",
   "execution_count": 58,
   "id": "973ab4cb",
   "metadata": {},
   "outputs": [
    {
     "data": {
      "text/plain": [
       "['queso', 65, 'pollo', 80, 'chiles', 50, 'chiles', 40, 10, 11, 'Hola', 12, 13]"
      ]
     },
     "execution_count": 58,
     "metadata": {},
     "output_type": "execute_result"
    }
   ],
   "source": [
    "factura"
   ]
  },
  {
   "cell_type": "code",
   "execution_count": 59,
   "id": "da742138",
   "metadata": {},
   "outputs": [],
   "source": [
    "factura.remove(10)"
   ]
  },
  {
   "cell_type": "code",
   "execution_count": 60,
   "id": "3655ef67",
   "metadata": {},
   "outputs": [
    {
     "data": {
      "text/plain": [
       "['queso', 65, 'pollo', 80, 'chiles', 50, 'chiles', 40, 11, 'Hola', 12, 13]"
      ]
     },
     "execution_count": 60,
     "metadata": {},
     "output_type": "execute_result"
    }
   ],
   "source": [
    "factura"
   ]
  },
  {
   "cell_type": "code",
   "execution_count": 61,
   "id": "6c375344",
   "metadata": {},
   "outputs": [
    {
     "data": {
      "text/plain": [
       "11"
      ]
     },
     "execution_count": 61,
     "metadata": {},
     "output_type": "execute_result"
    }
   ],
   "source": [
    "factura.pop(8)"
   ]
  },
  {
   "cell_type": "code",
   "execution_count": 62,
   "id": "bb01d1a6",
   "metadata": {},
   "outputs": [
    {
     "data": {
      "text/plain": [
       "['queso', 65, 'pollo', 80, 'chiles', 50, 'chiles', 40, 'Hola', 12, 13]"
      ]
     },
     "execution_count": 62,
     "metadata": {},
     "output_type": "execute_result"
    }
   ],
   "source": [
    "factura"
   ]
  },
  {
   "cell_type": "markdown",
   "id": "2b99ccc7",
   "metadata": {},
   "source": [
    "# TUPLAS"
   ]
  },
  {
   "cell_type": "code",
   "execution_count": 2,
   "id": "e6931218",
   "metadata": {},
   "outputs": [],
   "source": [
    "# Definida con () y es Inmutable"
   ]
  },
  {
   "cell_type": "code",
   "execution_count": 3,
   "id": "5b0a456f",
   "metadata": {},
   "outputs": [],
   "source": [
    "tupla1=(\"Python\",3.6,True,5)"
   ]
  },
  {
   "cell_type": "code",
   "execution_count": 4,
   "id": "875922db",
   "metadata": {},
   "outputs": [
    {
     "data": {
      "text/plain": [
       "tuple"
      ]
     },
     "execution_count": 4,
     "metadata": {},
     "output_type": "execute_result"
    }
   ],
   "source": [
    "type(tupla1)"
   ]
  },
  {
   "cell_type": "code",
   "execution_count": 5,
   "id": "a789ccd0",
   "metadata": {},
   "outputs": [
    {
     "ename": "AttributeError",
     "evalue": "'tuple' object has no attribute 'append'",
     "output_type": "error",
     "traceback": [
      "\u001b[1;31m---------------------------------------------------------------------------\u001b[0m",
      "\u001b[1;31mAttributeError\u001b[0m                            Traceback (most recent call last)",
      "\u001b[1;32m<ipython-input-5-6e52e8e3e640>\u001b[0m in \u001b[0;36m<module>\u001b[1;34m\u001b[0m\n\u001b[1;32m----> 1\u001b[1;33m \u001b[0mtupla1\u001b[0m\u001b[1;33m.\u001b[0m\u001b[0mappend\u001b[0m\u001b[1;33m(\u001b[0m\u001b[1;36m10\u001b[0m\u001b[1;33m)\u001b[0m\u001b[1;33m\u001b[0m\u001b[1;33m\u001b[0m\u001b[0m\n\u001b[0m",
      "\u001b[1;31mAttributeError\u001b[0m: 'tuple' object has no attribute 'append'"
     ]
    }
   ],
   "source": [
    "tupla1.append(10)"
   ]
  },
  {
   "cell_type": "code",
   "execution_count": 6,
   "id": "f209be0c",
   "metadata": {},
   "outputs": [],
   "source": [
    "listatupla1=list(tupla1)"
   ]
  },
  {
   "cell_type": "code",
   "execution_count": 7,
   "id": "fa08f780",
   "metadata": {},
   "outputs": [
    {
     "data": {
      "text/plain": [
       "['Python', 3.6, True, 5]"
      ]
     },
     "execution_count": 7,
     "metadata": {},
     "output_type": "execute_result"
    }
   ],
   "source": [
    "listatupla1"
   ]
  },
  {
   "cell_type": "code",
   "execution_count": 8,
   "id": "98624ebc",
   "metadata": {},
   "outputs": [],
   "source": [
    "listatupla1.append(10)"
   ]
  },
  {
   "cell_type": "code",
   "execution_count": 9,
   "id": "dc0b2e98",
   "metadata": {},
   "outputs": [
    {
     "data": {
      "text/plain": [
       "['Python', 3.6, True, 5, 10]"
      ]
     },
     "execution_count": 9,
     "metadata": {},
     "output_type": "execute_result"
    }
   ],
   "source": [
    "listatupla1"
   ]
  },
  {
   "cell_type": "code",
   "execution_count": 10,
   "id": "3bc87439",
   "metadata": {},
   "outputs": [],
   "source": [
    "tupla1=tuple(listatupla1)"
   ]
  },
  {
   "cell_type": "code",
   "execution_count": 11,
   "id": "83938c79",
   "metadata": {},
   "outputs": [
    {
     "data": {
      "text/plain": [
       "('Python', 3.6, True, 5, 10)"
      ]
     },
     "execution_count": 11,
     "metadata": {},
     "output_type": "execute_result"
    }
   ],
   "source": [
    "tupla1"
   ]
  },
  {
   "cell_type": "markdown",
   "id": "6eef0877",
   "metadata": {},
   "source": [
    "# DICCIONARIOS"
   ]
  },
  {
   "cell_type": "code",
   "execution_count": 12,
   "id": "080369a0",
   "metadata": {},
   "outputs": [],
   "source": [
    "# Elementos en pares, poseen una llave (key), se define con {}, es mutable"
   ]
  },
  {
   "cell_type": "code",
   "execution_count": 56,
   "id": "6366a0ba",
   "metadata": {},
   "outputs": [],
   "source": [
    "dict1={\"Nombre\":\"Victor\",\"Pelicula\":\"Nop\",\"Numero\":3,\n",
    "       \"Nombre\":\"Carlos\",\"Pelicula\":\"Avengers\",\"Numero\":6,\n",
    "       \"Nombre\":\"Claudia\",\"Pelicula\":\"Parásitos\",\"Numero\":10\n",
    "      }"
   ]
  },
  {
   "cell_type": "code",
   "execution_count": 14,
   "id": "05cbf86b",
   "metadata": {},
   "outputs": [
    {
     "data": {
      "text/plain": [
       "{'Nombre': 'Claudia', 'Pelicula': 'Parásitos', 'Numero': 10}"
      ]
     },
     "execution_count": 14,
     "metadata": {},
     "output_type": "execute_result"
    }
   ],
   "source": [
    "dict1"
   ]
  },
  {
   "cell_type": "code",
   "execution_count": 15,
   "id": "27571797",
   "metadata": {},
   "outputs": [
    {
     "data": {
      "text/plain": [
       "dict"
      ]
     },
     "execution_count": 15,
     "metadata": {},
     "output_type": "execute_result"
    }
   ],
   "source": [
    "type(dict1)"
   ]
  },
  {
   "cell_type": "code",
   "execution_count": 16,
   "id": "a28631e6",
   "metadata": {},
   "outputs": [],
   "source": [
    "dict1.clear()"
   ]
  },
  {
   "cell_type": "code",
   "execution_count": 17,
   "id": "7f2863e8",
   "metadata": {},
   "outputs": [
    {
     "data": {
      "text/plain": [
       "{}"
      ]
     },
     "execution_count": 17,
     "metadata": {},
     "output_type": "execute_result"
    }
   ],
   "source": [
    "dict1"
   ]
  },
  {
   "cell_type": "code",
   "execution_count": 18,
   "id": "0da765e6",
   "metadata": {},
   "outputs": [],
   "source": [
    "keys=(\"Nombre\",\"Pelicula\",\"Numero\")\n",
    "dict2=dict.fromkeys(keys)"
   ]
  },
  {
   "cell_type": "code",
   "execution_count": 19,
   "id": "7669e92f",
   "metadata": {},
   "outputs": [
    {
     "data": {
      "text/plain": [
       "{'Nombre': None, 'Pelicula': None, 'Numero': None}"
      ]
     },
     "execution_count": 19,
     "metadata": {},
     "output_type": "execute_result"
    }
   ],
   "source": [
    "dict2"
   ]
  },
  {
   "cell_type": "code",
   "execution_count": 20,
   "id": "6f66eeae",
   "metadata": {},
   "outputs": [],
   "source": [
    "dict3=dict(Windows=10,Core=\"i7\",Python=3.6)"
   ]
  },
  {
   "cell_type": "code",
   "execution_count": 21,
   "id": "d86adbc9",
   "metadata": {},
   "outputs": [
    {
     "data": {
      "text/plain": [
       "{'Windows': 10, 'Core': 'i7', 'Python': 3.6}"
      ]
     },
     "execution_count": 21,
     "metadata": {},
     "output_type": "execute_result"
    }
   ],
   "source": [
    "dict3"
   ]
  },
  {
   "cell_type": "code",
   "execution_count": 22,
   "id": "6388afed",
   "metadata": {},
   "outputs": [
    {
     "data": {
      "text/plain": [
       "dict_items([('Windows', 10), ('Core', 'i7'), ('Python', 3.6)])"
      ]
     },
     "execution_count": 22,
     "metadata": {},
     "output_type": "execute_result"
    }
   ],
   "source": [
    "dict3.items()"
   ]
  },
  {
   "cell_type": "code",
   "execution_count": 24,
   "id": "5a87e4b3",
   "metadata": {},
   "outputs": [
    {
     "data": {
      "text/plain": [
       "10"
      ]
     },
     "execution_count": 24,
     "metadata": {},
     "output_type": "execute_result"
    }
   ],
   "source": [
    "dict3.get(\"Windows\")"
   ]
  },
  {
   "cell_type": "code",
   "execution_count": 26,
   "id": "3aeadef7",
   "metadata": {},
   "outputs": [
    {
     "data": {
      "text/plain": [
       "dict_keys(['Windows', 'Core', 'Python'])"
      ]
     },
     "execution_count": 26,
     "metadata": {},
     "output_type": "execute_result"
    }
   ],
   "source": [
    "dict3.keys()"
   ]
  },
  {
   "cell_type": "code",
   "execution_count": 27,
   "id": "2b3aa96a",
   "metadata": {},
   "outputs": [
    {
     "data": {
      "text/plain": [
       "3.6"
      ]
     },
     "execution_count": 27,
     "metadata": {},
     "output_type": "execute_result"
    }
   ],
   "source": [
    "dict3.pop(\"Python\") #Elimina un key/value del diccionario y nos regresa su valor"
   ]
  },
  {
   "cell_type": "code",
   "execution_count": 28,
   "id": "0025fca6",
   "metadata": {},
   "outputs": [
    {
     "data": {
      "text/plain": [
       "{'Windows': 10, 'Core': 'i7'}"
      ]
     },
     "execution_count": 28,
     "metadata": {},
     "output_type": "execute_result"
    }
   ],
   "source": [
    "dict3"
   ]
  },
  {
   "cell_type": "code",
   "execution_count": 30,
   "id": "3d260b2c",
   "metadata": {},
   "outputs": [],
   "source": [
    "dict4=dict(Grafica=\"Intelx\",Memory=64)\n",
    "dict3.update(dict4) #Agrega los keys/values de un diccionario al final del otro"
   ]
  },
  {
   "cell_type": "code",
   "execution_count": 31,
   "id": "4f5cd112",
   "metadata": {},
   "outputs": [
    {
     "data": {
      "text/plain": [
       "{'Windows': 10, 'Core': 'i7', 'Grafica': 'Intelx', 'Memory': 64}"
      ]
     },
     "execution_count": 31,
     "metadata": {},
     "output_type": "execute_result"
    }
   ],
   "source": [
    "dict3"
   ]
  },
  {
   "cell_type": "code",
   "execution_count": 32,
   "id": "b371a761",
   "metadata": {},
   "outputs": [
    {
     "data": {
      "text/plain": [
       "('Memory', 64)"
      ]
     },
     "execution_count": 32,
     "metadata": {},
     "output_type": "execute_result"
    }
   ],
   "source": [
    "dict3.popitem() #Elimina el último key/value del diccionario"
   ]
  },
  {
   "cell_type": "code",
   "execution_count": 33,
   "id": "69a359a9",
   "metadata": {},
   "outputs": [
    {
     "data": {
      "text/plain": [
       "{'Windows': 10, 'Core': 'i7', 'Grafica': 'Intelx'}"
      ]
     },
     "execution_count": 33,
     "metadata": {},
     "output_type": "execute_result"
    }
   ],
   "source": [
    "dict3"
   ]
  },
  {
   "cell_type": "markdown",
   "id": "55e616bb",
   "metadata": {},
   "source": [
    "# LISTAS ANIDADAS"
   ]
  },
  {
   "cell_type": "code",
   "execution_count": 35,
   "id": "128b9d2f",
   "metadata": {},
   "outputs": [],
   "source": [
    "lista1=[\"M\",\"nom\",\"e\",\"Pa\"]\n",
    "lista2=[\"i\",\"bre\",\"s\",\"co\"]"
   ]
  },
  {
   "cell_type": "code",
   "execution_count": 36,
   "id": "7c3536b5",
   "metadata": {},
   "outputs": [],
   "source": [
    "lista3=[i+j for i,j in zip(lista1,lista2)]"
   ]
  },
  {
   "cell_type": "code",
   "execution_count": 37,
   "id": "da6e2b06",
   "metadata": {},
   "outputs": [
    {
     "data": {
      "text/plain": [
       "['Mi', 'nombre', 'es', 'Paco']"
      ]
     },
     "execution_count": 37,
     "metadata": {},
     "output_type": "execute_result"
    }
   ],
   "source": [
    "lista3"
   ]
  },
  {
   "cell_type": "code",
   "execution_count": 38,
   "id": "b2836842",
   "metadata": {},
   "outputs": [],
   "source": [
    "lista3.reverse()"
   ]
  },
  {
   "cell_type": "code",
   "execution_count": 39,
   "id": "e6c644d4",
   "metadata": {},
   "outputs": [
    {
     "data": {
      "text/plain": [
       "['Paco', 'es', 'nombre', 'Mi']"
      ]
     },
     "execution_count": 39,
     "metadata": {},
     "output_type": "execute_result"
    }
   ],
   "source": [
    "lista3"
   ]
  },
  {
   "cell_type": "code",
   "execution_count": 40,
   "id": "e50a0fd1",
   "metadata": {},
   "outputs": [],
   "source": [
    "listaanidada=[25,[36,33,32,[28,20],27],[26,33,30]]"
   ]
  },
  {
   "cell_type": "code",
   "execution_count": 41,
   "id": "d46a218a",
   "metadata": {},
   "outputs": [
    {
     "data": {
      "text/plain": [
       "[25, [36, 33, 32, [28, 20], 27], [26, 33, 30]]"
      ]
     },
     "execution_count": 41,
     "metadata": {},
     "output_type": "execute_result"
    }
   ],
   "source": [
    "listaanidada"
   ]
  },
  {
   "cell_type": "code",
   "execution_count": 42,
   "id": "8a72c339",
   "metadata": {},
   "outputs": [
    {
     "data": {
      "text/plain": [
       "25"
      ]
     },
     "execution_count": 42,
     "metadata": {},
     "output_type": "execute_result"
    }
   ],
   "source": [
    "listaanidada[0]"
   ]
  },
  {
   "cell_type": "code",
   "execution_count": 43,
   "id": "f5981255",
   "metadata": {},
   "outputs": [
    {
     "data": {
      "text/plain": [
       "[36, 33, 32, [28, 20], 27]"
      ]
     },
     "execution_count": 43,
     "metadata": {},
     "output_type": "execute_result"
    }
   ],
   "source": [
    "listaanidada[1]"
   ]
  },
  {
   "cell_type": "code",
   "execution_count": 45,
   "id": "a0edac9a",
   "metadata": {},
   "outputs": [
    {
     "data": {
      "text/plain": [
       "[26, 33, 30]"
      ]
     },
     "execution_count": 45,
     "metadata": {},
     "output_type": "execute_result"
    }
   ],
   "source": [
    "listaanidada[2]"
   ]
  },
  {
   "cell_type": "code",
   "execution_count": 46,
   "id": "7e188309",
   "metadata": {},
   "outputs": [
    {
     "data": {
      "text/plain": [
       "36"
      ]
     },
     "execution_count": 46,
     "metadata": {},
     "output_type": "execute_result"
    }
   ],
   "source": [
    "listaanidada[1][0]"
   ]
  },
  {
   "cell_type": "code",
   "execution_count": 47,
   "id": "d83f62f3",
   "metadata": {},
   "outputs": [
    {
     "data": {
      "text/plain": [
       "33"
      ]
     },
     "execution_count": 47,
     "metadata": {},
     "output_type": "execute_result"
    }
   ],
   "source": [
    "listaanidada[1][1]"
   ]
  },
  {
   "cell_type": "code",
   "execution_count": 48,
   "id": "500fa00f",
   "metadata": {},
   "outputs": [
    {
     "data": {
      "text/plain": [
       "32"
      ]
     },
     "execution_count": 48,
     "metadata": {},
     "output_type": "execute_result"
    }
   ],
   "source": [
    "listaanidada[1][2]"
   ]
  },
  {
   "cell_type": "code",
   "execution_count": 49,
   "id": "a38e8d6b",
   "metadata": {},
   "outputs": [
    {
     "data": {
      "text/plain": [
       "[28, 20]"
      ]
     },
     "execution_count": 49,
     "metadata": {},
     "output_type": "execute_result"
    }
   ],
   "source": [
    "listaanidada[1][3]"
   ]
  },
  {
   "cell_type": "code",
   "execution_count": 50,
   "id": "81aa20fe",
   "metadata": {},
   "outputs": [
    {
     "data": {
      "text/plain": [
       "28"
      ]
     },
     "execution_count": 50,
     "metadata": {},
     "output_type": "execute_result"
    }
   ],
   "source": [
    "listaanidada[1][3][0]"
   ]
  },
  {
   "cell_type": "code",
   "execution_count": 51,
   "id": "01f55729",
   "metadata": {},
   "outputs": [],
   "source": [
    "listaanidada[1][3].append(45)"
   ]
  },
  {
   "cell_type": "code",
   "execution_count": 52,
   "id": "788c58a3",
   "metadata": {},
   "outputs": [
    {
     "data": {
      "text/plain": [
       "[25, [36, 33, 32, [28, 20, 45], 27], [26, 33, 30]]"
      ]
     },
     "execution_count": 52,
     "metadata": {},
     "output_type": "execute_result"
    }
   ],
   "source": [
    "listaanidada"
   ]
  },
  {
   "cell_type": "code",
   "execution_count": 53,
   "id": "55067469",
   "metadata": {},
   "outputs": [],
   "source": [
    "listaanidada[1].remove(32)"
   ]
  },
  {
   "cell_type": "code",
   "execution_count": 54,
   "id": "b682286a",
   "metadata": {},
   "outputs": [
    {
     "data": {
      "text/plain": [
       "[25, [36, 33, [28, 20, 45], 27], [26, 33, 30]]"
      ]
     },
     "execution_count": 54,
     "metadata": {},
     "output_type": "execute_result"
    }
   ],
   "source": [
    "listaanidada"
   ]
  },
  {
   "cell_type": "markdown",
   "id": "ec60714e",
   "metadata": {},
   "source": [
    "# DICCIONARIOS ANIDADO"
   ]
  },
  {
   "cell_type": "code",
   "execution_count": 57,
   "id": "024d5c8b",
   "metadata": {},
   "outputs": [],
   "source": [
    "dictanidado={\"P0\":{\"Nombre\":\"Victor\",\"Pelicula\":\"Nop\",\"Numero\":3},\n",
    "             \"P1\":{\"Nombre\":\"Carlos\",\"Pelicula\":\"Avengers\",\"Numero\":6},\n",
    "             \"P2\":{\"Nombre\":\"Claudia\",\"Pelicula\":\"Parásitos\",\"Numero\":10}\n",
    "            }"
   ]
  },
  {
   "cell_type": "code",
   "execution_count": 58,
   "id": "61ccca5d",
   "metadata": {},
   "outputs": [
    {
     "data": {
      "text/plain": [
       "{'P0': {'Nombre': 'Victor', 'Pelicula': 'Nop', 'Numero': 3},\n",
       " 'P1': {'Nombre': 'Carlos', 'Pelicula': 'Avengers', 'Numero': 6},\n",
       " 'P2': {'Nombre': 'Claudia', 'Pelicula': 'Parásitos', 'Numero': 10}}"
      ]
     },
     "execution_count": 58,
     "metadata": {},
     "output_type": "execute_result"
    }
   ],
   "source": [
    "dictanidado"
   ]
  },
  {
   "cell_type": "code",
   "execution_count": 60,
   "id": "2a86687a",
   "metadata": {},
   "outputs": [
    {
     "data": {
      "text/plain": [
       "'Nop'"
      ]
     },
     "execution_count": 60,
     "metadata": {},
     "output_type": "execute_result"
    }
   ],
   "source": [
    "dictanidado[\"P0\"][\"Pelicula\"]"
   ]
  },
  {
   "cell_type": "code",
   "execution_count": 61,
   "id": "9522a175",
   "metadata": {},
   "outputs": [],
   "source": [
    "dictanidado[\"P0\"][\"Pelicula\"]=\"Duro de Matar\""
   ]
  },
  {
   "cell_type": "code",
   "execution_count": 62,
   "id": "76c54d13",
   "metadata": {},
   "outputs": [
    {
     "data": {
      "text/plain": [
       "{'P0': {'Nombre': 'Victor', 'Pelicula': 'Duro de Matar', 'Numero': 3},\n",
       " 'P1': {'Nombre': 'Carlos', 'Pelicula': 'Avengers', 'Numero': 6},\n",
       " 'P2': {'Nombre': 'Claudia', 'Pelicula': 'Parásitos', 'Numero': 10}}"
      ]
     },
     "execution_count": 62,
     "metadata": {},
     "output_type": "execute_result"
    }
   ],
   "source": [
    "dictanidado"
   ]
  },
  {
   "cell_type": "markdown",
   "id": "fa08a0b6",
   "metadata": {},
   "source": [
    "# MUTABLE O INMUTABLE"
   ]
  },
  {
   "cell_type": "code",
   "execution_count": 65,
   "id": "9753d93a",
   "metadata": {},
   "outputs": [],
   "source": [
    "x5=10"
   ]
  },
  {
   "cell_type": "code",
   "execution_count": 66,
   "id": "a2d07edf",
   "metadata": {},
   "outputs": [
    {
     "data": {
      "text/plain": [
       "10"
      ]
     },
     "execution_count": 66,
     "metadata": {},
     "output_type": "execute_result"
    }
   ],
   "source": [
    "x5"
   ]
  },
  {
   "cell_type": "code",
   "execution_count": 70,
   "id": "f8283d73",
   "metadata": {},
   "outputs": [
    {
     "name": "stdout",
     "output_type": "stream",
     "text": [
      "Lugar de la memomria para x5: 1991946720\n"
     ]
    }
   ],
   "source": [
    "print(\"Lugar de la memomria para x5:\",id(x5))"
   ]
  },
  {
   "cell_type": "code",
   "execution_count": 71,
   "id": "3ab04e9d",
   "metadata": {},
   "outputs": [],
   "source": [
    "x5=20"
   ]
  },
  {
   "cell_type": "code",
   "execution_count": 72,
   "id": "d3932a07",
   "metadata": {},
   "outputs": [
    {
     "name": "stdout",
     "output_type": "stream",
     "text": [
      "Lugar de la memomria para x5: 1991947040\n"
     ]
    }
   ],
   "source": [
    "print(\"Lugar de la memomria para x5:\",id(x5))"
   ]
  },
  {
   "cell_type": "code",
   "execution_count": null,
   "id": "398c2a20",
   "metadata": {},
   "outputs": [],
   "source": [
    "# Por lo tanto una veriable es INMUTABLE"
   ]
  },
  {
   "cell_type": "code",
   "execution_count": 77,
   "id": "1a2d39b3",
   "metadata": {},
   "outputs": [],
   "source": [
    "x6=[10]"
   ]
  },
  {
   "cell_type": "code",
   "execution_count": 78,
   "id": "8beb7edb",
   "metadata": {},
   "outputs": [
    {
     "data": {
      "text/plain": [
       "list"
      ]
     },
     "execution_count": 78,
     "metadata": {},
     "output_type": "execute_result"
    }
   ],
   "source": [
    "type(x6)"
   ]
  },
  {
   "cell_type": "code",
   "execution_count": 79,
   "id": "41bf55f6",
   "metadata": {},
   "outputs": [
    {
     "data": {
      "text/plain": [
       "[10]"
      ]
     },
     "execution_count": 79,
     "metadata": {},
     "output_type": "execute_result"
    }
   ],
   "source": [
    "x6"
   ]
  },
  {
   "cell_type": "code",
   "execution_count": 81,
   "id": "efdba0b1",
   "metadata": {},
   "outputs": [
    {
     "name": "stdout",
     "output_type": "stream",
     "text": [
      "Lugar de la memomria para x6: 1599818611976\n"
     ]
    }
   ],
   "source": [
    "print(\"Lugar de la memomria para x6:\",id(x6))"
   ]
  },
  {
   "cell_type": "code",
   "execution_count": 82,
   "id": "ff08efdd",
   "metadata": {},
   "outputs": [],
   "source": [
    "x6.append(20)"
   ]
  },
  {
   "cell_type": "code",
   "execution_count": 83,
   "id": "58c8922f",
   "metadata": {},
   "outputs": [
    {
     "data": {
      "text/plain": [
       "[10, 20]"
      ]
     },
     "execution_count": 83,
     "metadata": {},
     "output_type": "execute_result"
    }
   ],
   "source": [
    "x6"
   ]
  },
  {
   "cell_type": "code",
   "execution_count": 84,
   "id": "82c85bd8",
   "metadata": {},
   "outputs": [
    {
     "name": "stdout",
     "output_type": "stream",
     "text": [
      "Lugar de la memomria para x6: 1599818611976\n"
     ]
    }
   ],
   "source": [
    "print(\"Lugar de la memomria para x6:\",id(x6))"
   ]
  },
  {
   "cell_type": "code",
   "execution_count": null,
   "id": "c4b9d78b",
   "metadata": {},
   "outputs": [],
   "source": [
    "# Por lo tanto la lista en MUTABLE"
   ]
  }
 ],
 "metadata": {
  "kernelspec": {
   "display_name": "Python 3",
   "language": "python",
   "name": "python3"
  },
  "language_info": {
   "codemirror_mode": {
    "name": "ipython",
    "version": 3
   },
   "file_extension": ".py",
   "mimetype": "text/x-python",
   "name": "python",
   "nbconvert_exporter": "python",
   "pygments_lexer": "ipython3",
   "version": "3.6.13"
  }
 },
 "nbformat": 4,
 "nbformat_minor": 5
}
