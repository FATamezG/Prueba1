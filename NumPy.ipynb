{
 "cells": [
  {
   "cell_type": "markdown",
   "id": "571e0273",
   "metadata": {},
   "source": [
    "# Numeric Python"
   ]
  },
  {
   "cell_type": "code",
   "execution_count": 1,
   "id": "4fe472b9",
   "metadata": {},
   "outputs": [
    {
     "name": "stdout",
     "output_type": "stream",
     "text": [
      "Collecting numpy\n",
      "  Downloading numpy-1.19.5-cp36-cp36m-win_amd64.whl (13.2 MB)\n",
      "Installing collected packages: numpy\n",
      "Successfully installed numpy-1.19.5\n"
     ]
    }
   ],
   "source": [
    "!pip install numpy"
   ]
  },
  {
   "cell_type": "code",
   "execution_count": 2,
   "id": "1d30c841",
   "metadata": {},
   "outputs": [],
   "source": [
    "import numpy"
   ]
  },
  {
   "cell_type": "code",
   "execution_count": 3,
   "id": "b5458a16",
   "metadata": {},
   "outputs": [],
   "source": [
    "lista1=[1,2,3]"
   ]
  },
  {
   "cell_type": "code",
   "execution_count": 5,
   "id": "ac8fddeb",
   "metadata": {},
   "outputs": [
    {
     "data": {
      "text/plain": [
       "list"
      ]
     },
     "execution_count": 5,
     "metadata": {},
     "output_type": "execute_result"
    }
   ],
   "source": [
    "type(lista1)"
   ]
  },
  {
   "cell_type": "code",
   "execution_count": 6,
   "id": "35c9d041",
   "metadata": {},
   "outputs": [],
   "source": [
    "matriz1=numpy.array(lista1)"
   ]
  },
  {
   "cell_type": "code",
   "execution_count": 7,
   "id": "6172b38d",
   "metadata": {},
   "outputs": [
    {
     "data": {
      "text/plain": [
       "numpy.ndarray"
      ]
     },
     "execution_count": 7,
     "metadata": {},
     "output_type": "execute_result"
    }
   ],
   "source": [
    "type(matriz1)"
   ]
  },
  {
   "cell_type": "code",
   "execution_count": 8,
   "id": "50a9ea29",
   "metadata": {},
   "outputs": [
    {
     "data": {
      "text/plain": [
       "array([1, 2, 3])"
      ]
     },
     "execution_count": 8,
     "metadata": {},
     "output_type": "execute_result"
    }
   ],
   "source": [
    "matriz1"
   ]
  },
  {
   "cell_type": "code",
   "execution_count": 9,
   "id": "e8171868",
   "metadata": {},
   "outputs": [
    {
     "data": {
      "text/plain": [
       "1"
      ]
     },
     "execution_count": 9,
     "metadata": {},
     "output_type": "execute_result"
    }
   ],
   "source": [
    "matriz1.ndim"
   ]
  },
  {
   "cell_type": "code",
   "execution_count": 10,
   "id": "6cb16917",
   "metadata": {},
   "outputs": [
    {
     "data": {
      "text/plain": [
       "(3,)"
      ]
     },
     "execution_count": 10,
     "metadata": {},
     "output_type": "execute_result"
    }
   ],
   "source": [
    "matriz1.shape"
   ]
  },
  {
   "cell_type": "code",
   "execution_count": 11,
   "id": "0ee597e8",
   "metadata": {},
   "outputs": [],
   "source": [
    "lista3=[1.0,True,\"a\",3]"
   ]
  },
  {
   "cell_type": "code",
   "execution_count": 12,
   "id": "bedb6e76",
   "metadata": {},
   "outputs": [],
   "source": [
    "import numpy as np"
   ]
  },
  {
   "cell_type": "code",
   "execution_count": 13,
   "id": "6d17ce40",
   "metadata": {},
   "outputs": [],
   "source": [
    "matriz3=np.array(lista3)"
   ]
  },
  {
   "cell_type": "code",
   "execution_count": 14,
   "id": "0205782d",
   "metadata": {},
   "outputs": [
    {
     "data": {
      "text/plain": [
       "array(['1.0', 'True', 'a', '3'], dtype='<U32')"
      ]
     },
     "execution_count": 14,
     "metadata": {},
     "output_type": "execute_result"
    }
   ],
   "source": [
    "matriz3"
   ]
  },
  {
   "cell_type": "markdown",
   "id": "b80bbcf7",
   "metadata": {},
   "source": [
    "## Nota: Las Matrices almacenan valores de solo un tipo de dato"
   ]
  },
  {
   "cell_type": "code",
   "execution_count": 16,
   "id": "ec41f8a0",
   "metadata": {},
   "outputs": [
    {
     "data": {
      "text/plain": [
       "dtype('int32')"
      ]
     },
     "execution_count": 16,
     "metadata": {},
     "output_type": "execute_result"
    }
   ],
   "source": [
    "matriz1.dtype"
   ]
  },
  {
   "cell_type": "code",
   "execution_count": 21,
   "id": "854b0538",
   "metadata": {},
   "outputs": [],
   "source": [
    "matriz4=np.array([1,2,3], dtype=\"float\")"
   ]
  },
  {
   "cell_type": "code",
   "execution_count": 18,
   "id": "ccd85db6",
   "metadata": {},
   "outputs": [
    {
     "data": {
      "text/plain": [
       "array([1., 2., 3.])"
      ]
     },
     "execution_count": 18,
     "metadata": {},
     "output_type": "execute_result"
    }
   ],
   "source": [
    "matriz4"
   ]
  },
  {
   "cell_type": "code",
   "execution_count": 19,
   "id": "3ad46feb",
   "metadata": {},
   "outputs": [
    {
     "data": {
      "text/plain": [
       "dtype('float64')"
      ]
     },
     "execution_count": 19,
     "metadata": {},
     "output_type": "execute_result"
    }
   ],
   "source": [
    "matriz4.dtype"
   ]
  },
  {
   "cell_type": "code",
   "execution_count": 22,
   "id": "a3ecb5cb",
   "metadata": {},
   "outputs": [],
   "source": [
    "matriz5=np.array([1,2,3], dtype=\"float16\")"
   ]
  },
  {
   "cell_type": "code",
   "execution_count": 23,
   "id": "87a3b7f2",
   "metadata": {},
   "outputs": [
    {
     "data": {
      "text/plain": [
       "array([1., 2., 3.], dtype=float16)"
      ]
     },
     "execution_count": 23,
     "metadata": {},
     "output_type": "execute_result"
    }
   ],
   "source": [
    "matriz5"
   ]
  },
  {
   "cell_type": "code",
   "execution_count": 24,
   "id": "1fd5eb37",
   "metadata": {},
   "outputs": [],
   "source": [
    "m=[1,2,3]\n",
    "n=[4,5,6]"
   ]
  },
  {
   "cell_type": "code",
   "execution_count": 26,
   "id": "d92052f0",
   "metadata": {},
   "outputs": [
    {
     "data": {
      "text/plain": [
       "[1, 2, 3, 4, 5, 6]"
      ]
     },
     "execution_count": 26,
     "metadata": {},
     "output_type": "execute_result"
    }
   ],
   "source": [
    "m+n"
   ]
  },
  {
   "cell_type": "code",
   "execution_count": 27,
   "id": "38093301",
   "metadata": {},
   "outputs": [],
   "source": [
    "matriz_m=np.array(m)\n",
    "matriz_n=np.array(n)"
   ]
  },
  {
   "cell_type": "code",
   "execution_count": 28,
   "id": "c087bbe9",
   "metadata": {},
   "outputs": [
    {
     "data": {
      "text/plain": [
       "array([5, 7, 9])"
      ]
     },
     "execution_count": 28,
     "metadata": {},
     "output_type": "execute_result"
    }
   ],
   "source": [
    "matriz_m + matriz_n"
   ]
  },
  {
   "cell_type": "code",
   "execution_count": 29,
   "id": "3cabe31d",
   "metadata": {},
   "outputs": [
    {
     "data": {
      "text/plain": [
       "array([1, 4, 9], dtype=int32)"
      ]
     },
     "execution_count": 29,
     "metadata": {},
     "output_type": "execute_result"
    }
   ],
   "source": [
    "np.square(matriz_m)"
   ]
  },
  {
   "cell_type": "code",
   "execution_count": 30,
   "id": "15c57e29",
   "metadata": {},
   "outputs": [
    {
     "data": {
      "text/plain": [
       "1"
      ]
     },
     "execution_count": 30,
     "metadata": {},
     "output_type": "execute_result"
    }
   ],
   "source": [
    "matriz_m[0]"
   ]
  },
  {
   "cell_type": "code",
   "execution_count": 31,
   "id": "efce1186",
   "metadata": {},
   "outputs": [
    {
     "data": {
      "text/plain": [
       "6"
      ]
     },
     "execution_count": 31,
     "metadata": {},
     "output_type": "execute_result"
    }
   ],
   "source": [
    "matriz_n[-1]"
   ]
  },
  {
   "cell_type": "code",
   "execution_count": 32,
   "id": "c9d7fe2d",
   "metadata": {},
   "outputs": [],
   "source": [
    "o=[7,8,9,10]\n",
    "matriz_o=np.array(o)"
   ]
  },
  {
   "cell_type": "code",
   "execution_count": 33,
   "id": "e9a5d391",
   "metadata": {},
   "outputs": [
    {
     "data": {
      "text/plain": [
       "array([ 7,  8,  9, 10])"
      ]
     },
     "execution_count": 33,
     "metadata": {},
     "output_type": "execute_result"
    }
   ],
   "source": [
    "matriz_o"
   ]
  },
  {
   "cell_type": "code",
   "execution_count": 34,
   "id": "e7e2e9fc",
   "metadata": {},
   "outputs": [
    {
     "ename": "ValueError",
     "evalue": "operands could not be broadcast together with shapes (3,) (4,) ",
     "output_type": "error",
     "traceback": [
      "\u001b[1;31m---------------------------------------------------------------------------\u001b[0m",
      "\u001b[1;31mValueError\u001b[0m                                Traceback (most recent call last)",
      "\u001b[1;32m<ipython-input-34-f8307c95dec1>\u001b[0m in \u001b[0;36m<module>\u001b[1;34m\u001b[0m\n\u001b[1;32m----> 1\u001b[1;33m \u001b[0mmatriz_m\u001b[0m \u001b[1;33m+\u001b[0m \u001b[0mmatriz_o\u001b[0m\u001b[1;33m\u001b[0m\u001b[1;33m\u001b[0m\u001b[0m\n\u001b[0m",
      "\u001b[1;31mValueError\u001b[0m: operands could not be broadcast together with shapes (3,) (4,) "
     ]
    }
   ],
   "source": [
    "matriz_m + matriz_o"
   ]
  },
  {
   "cell_type": "code",
   "execution_count": 35,
   "id": "48065f3a",
   "metadata": {},
   "outputs": [],
   "source": [
    "matriz_neg=matriz_m - matriz_n"
   ]
  },
  {
   "cell_type": "code",
   "execution_count": 36,
   "id": "e0544d82",
   "metadata": {},
   "outputs": [
    {
     "data": {
      "text/plain": [
       "array([-3, -3, -3])"
      ]
     },
     "execution_count": 36,
     "metadata": {},
     "output_type": "execute_result"
    }
   ],
   "source": [
    "matriz_neg"
   ]
  },
  {
   "cell_type": "code",
   "execution_count": 37,
   "id": "8c053bf6",
   "metadata": {},
   "outputs": [
    {
     "data": {
      "text/plain": [
       "array([3, 3, 3])"
      ]
     },
     "execution_count": 37,
     "metadata": {},
     "output_type": "execute_result"
    }
   ],
   "source": [
    "np.absolute(matriz_neg)"
   ]
  },
  {
   "cell_type": "code",
   "execution_count": 38,
   "id": "dd42e755",
   "metadata": {},
   "outputs": [
    {
     "data": {
      "text/plain": [
       "array([4, 5, 6])"
      ]
     },
     "execution_count": 38,
     "metadata": {},
     "output_type": "execute_result"
    }
   ],
   "source": [
    "np.maximum(matriz_m,matriz_n)"
   ]
  },
  {
   "cell_type": "code",
   "execution_count": 39,
   "id": "d0e02d8a",
   "metadata": {},
   "outputs": [
    {
     "data": {
      "text/plain": [
       "array([1, 2, 3])"
      ]
     },
     "execution_count": 39,
     "metadata": {},
     "output_type": "execute_result"
    }
   ],
   "source": [
    "np.minimum(matriz_m,matriz_n)"
   ]
  },
  {
   "cell_type": "code",
   "execution_count": 40,
   "id": "06e2da30",
   "metadata": {},
   "outputs": [
    {
     "data": {
      "text/plain": [
       "array([1, 2, 3])"
      ]
     },
     "execution_count": 40,
     "metadata": {},
     "output_type": "execute_result"
    }
   ],
   "source": [
    "np.minimum(matriz_m,matriz_m)"
   ]
  },
  {
   "cell_type": "code",
   "execution_count": 41,
   "id": "75810811",
   "metadata": {},
   "outputs": [
    {
     "ename": "ValueError",
     "evalue": "operands could not be broadcast together with shapes (3,) (4,) ",
     "output_type": "error",
     "traceback": [
      "\u001b[1;31m---------------------------------------------------------------------------\u001b[0m",
      "\u001b[1;31mValueError\u001b[0m                                Traceback (most recent call last)",
      "\u001b[1;32m<ipython-input-41-870ac4829f48>\u001b[0m in \u001b[0;36m<module>\u001b[1;34m\u001b[0m\n\u001b[1;32m----> 1\u001b[1;33m \u001b[0mnp\u001b[0m\u001b[1;33m.\u001b[0m\u001b[0mminimum\u001b[0m\u001b[1;33m(\u001b[0m\u001b[0mmatriz_m\u001b[0m\u001b[1;33m,\u001b[0m\u001b[0mmatriz_o\u001b[0m\u001b[1;33m)\u001b[0m\u001b[1;33m\u001b[0m\u001b[1;33m\u001b[0m\u001b[0m\n\u001b[0m",
      "\u001b[1;31mValueError\u001b[0m: operands could not be broadcast together with shapes (3,) (4,) "
     ]
    }
   ],
   "source": [
    "np.minimum(matriz_m,matriz_o)"
   ]
  },
  {
   "cell_type": "code",
   "execution_count": 42,
   "id": "205c0b99",
   "metadata": {},
   "outputs": [],
   "source": [
    "desordenada=np.array([5,21,8,2,77,38,-90])"
   ]
  },
  {
   "cell_type": "code",
   "execution_count": 43,
   "id": "f9c0b1a7",
   "metadata": {},
   "outputs": [
    {
     "data": {
      "text/plain": [
       "array([  5,  21,   8,   2,  77,  38, -90])"
      ]
     },
     "execution_count": 43,
     "metadata": {},
     "output_type": "execute_result"
    }
   ],
   "source": [
    "desordenada"
   ]
  },
  {
   "cell_type": "code",
   "execution_count": 44,
   "id": "bfe9a6fd",
   "metadata": {},
   "outputs": [],
   "source": [
    "desordenada.sort()"
   ]
  },
  {
   "cell_type": "code",
   "execution_count": 45,
   "id": "3cf12ee4",
   "metadata": {},
   "outputs": [
    {
     "data": {
      "text/plain": [
       "array([-90,   2,   5,   8,  21,  38,  77])"
      ]
     },
     "execution_count": 45,
     "metadata": {},
     "output_type": "execute_result"
    }
   ],
   "source": [
    "desordenada"
   ]
  },
  {
   "cell_type": "code",
   "execution_count": 46,
   "id": "1fac625b",
   "metadata": {},
   "outputs": [],
   "source": [
    "matriz6=np.array(range(1,6))\n",
    "matriz7=np.array(range(4,11))"
   ]
  },
  {
   "cell_type": "code",
   "execution_count": 47,
   "id": "1e69cf84",
   "metadata": {},
   "outputs": [
    {
     "data": {
      "text/plain": [
       "array([1, 2, 3, 4, 5])"
      ]
     },
     "execution_count": 47,
     "metadata": {},
     "output_type": "execute_result"
    }
   ],
   "source": [
    "matriz6"
   ]
  },
  {
   "cell_type": "code",
   "execution_count": 49,
   "id": "c6215a50",
   "metadata": {},
   "outputs": [
    {
     "data": {
      "text/plain": [
       "array([ 4,  5,  6,  7,  8,  9, 10])"
      ]
     },
     "execution_count": 49,
     "metadata": {},
     "output_type": "execute_result"
    }
   ],
   "source": [
    "matriz7"
   ]
  },
  {
   "cell_type": "code",
   "execution_count": 50,
   "id": "68926002",
   "metadata": {},
   "outputs": [],
   "source": [
    "matriz8=np.append(matriz6,matriz7,axis=0)"
   ]
  },
  {
   "cell_type": "code",
   "execution_count": 51,
   "id": "d0bab36c",
   "metadata": {},
   "outputs": [
    {
     "data": {
      "text/plain": [
       "array([ 1,  2,  3,  4,  5,  4,  5,  6,  7,  8,  9, 10])"
      ]
     },
     "execution_count": 51,
     "metadata": {},
     "output_type": "execute_result"
    }
   ],
   "source": [
    "matriz8"
   ]
  },
  {
   "cell_type": "code",
   "execution_count": null,
   "id": "419d5e9a",
   "metadata": {},
   "outputs": [],
   "source": []
  },
  {
   "cell_type": "markdown",
   "id": "13b1fe4f",
   "metadata": {},
   "source": [
    "# Actividad 1"
   ]
  },
  {
   "cell_type": "code",
   "execution_count": 52,
   "id": "06dd83ff",
   "metadata": {},
   "outputs": [],
   "source": [
    "vector1=np.array(range(3,53))"
   ]
  },
  {
   "cell_type": "code",
   "execution_count": 53,
   "id": "14b41f38",
   "metadata": {},
   "outputs": [
    {
     "data": {
      "text/plain": [
       "array([ 3,  4,  5,  6,  7,  8,  9, 10, 11, 12, 13, 14, 15, 16, 17, 18, 19,\n",
       "       20, 21, 22, 23, 24, 25, 26, 27, 28, 29, 30, 31, 32, 33, 34, 35, 36,\n",
       "       37, 38, 39, 40, 41, 42, 43, 44, 45, 46, 47, 48, 49, 50, 51, 52])"
      ]
     },
     "execution_count": 53,
     "metadata": {},
     "output_type": "execute_result"
    }
   ],
   "source": [
    "vector1"
   ]
  },
  {
   "cell_type": "code",
   "execution_count": 54,
   "id": "0a1ec92e",
   "metadata": {},
   "outputs": [],
   "source": [
    "vector2=np.array([0,1,2,3,4,0,1,2,3,4])"
   ]
  },
  {
   "cell_type": "code",
   "execution_count": 55,
   "id": "77f6a9cc",
   "metadata": {},
   "outputs": [
    {
     "data": {
      "text/plain": [
       "array([0, 1, 2, 3, 4, 0, 1, 2, 3, 4])"
      ]
     },
     "execution_count": 55,
     "metadata": {},
     "output_type": "execute_result"
    }
   ],
   "source": [
    "vector2"
   ]
  },
  {
   "cell_type": "code",
   "execution_count": 56,
   "id": "4a353c0b",
   "metadata": {},
   "outputs": [],
   "source": [
    "vector2.sort()"
   ]
  },
  {
   "cell_type": "code",
   "execution_count": 57,
   "id": "5e2e7f18",
   "metadata": {},
   "outputs": [
    {
     "data": {
      "text/plain": [
       "array([0, 0, 1, 1, 2, 2, 3, 3, 4, 4])"
      ]
     },
     "execution_count": 57,
     "metadata": {},
     "output_type": "execute_result"
    }
   ],
   "source": [
    "vector2"
   ]
  },
  {
   "cell_type": "code",
   "execution_count": null,
   "id": "fe4bf593",
   "metadata": {},
   "outputs": [],
   "source": []
  }
 ],
 "metadata": {
  "kernelspec": {
   "display_name": "Python 3",
   "language": "python",
   "name": "python3"
  },
  "language_info": {
   "codemirror_mode": {
    "name": "ipython",
    "version": 3
   },
   "file_extension": ".py",
   "mimetype": "text/x-python",
   "name": "python",
   "nbconvert_exporter": "python",
   "pygments_lexer": "ipython3",
   "version": "3.6.13"
  }
 },
 "nbformat": 4,
 "nbformat_minor": 5
}
