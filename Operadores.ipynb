{
 "cells": [
  {
   "cell_type": "markdown",
   "id": "79a77175",
   "metadata": {},
   "source": [
    "# Parte 1"
   ]
  },
  {
   "cell_type": "code",
   "execution_count": 1,
   "id": "5d342c75",
   "metadata": {},
   "outputs": [
    {
     "data": {
      "text/plain": [
       "16"
      ]
     },
     "execution_count": 1,
     "metadata": {},
     "output_type": "execute_result"
    }
   ],
   "source": [
    "i=4\n",
    "i**=2\n",
    "i"
   ]
  },
  {
   "cell_type": "code",
   "execution_count": 9,
   "id": "e3fa559a",
   "metadata": {},
   "outputs": [
    {
     "data": {
      "text/plain": [
       "256"
      ]
     },
     "execution_count": 9,
     "metadata": {},
     "output_type": "execute_result"
    }
   ],
   "source": [
    "i**=2\n",
    "i"
   ]
  },
  {
   "cell_type": "code",
   "execution_count": 10,
   "id": "a3fb035e",
   "metadata": {},
   "outputs": [
    {
     "data": {
      "text/plain": [
       "40"
      ]
     },
     "execution_count": 10,
     "metadata": {},
     "output_type": "execute_result"
    }
   ],
   "source": [
    "i=4\n",
    "i*=10\n",
    "i"
   ]
  },
  {
   "cell_type": "code",
   "execution_count": 12,
   "id": "f091370b",
   "metadata": {},
   "outputs": [
    {
     "data": {
      "text/plain": [
       "1.3333333333333333"
      ]
     },
     "execution_count": 12,
     "metadata": {},
     "output_type": "execute_result"
    }
   ],
   "source": [
    "i=4\n",
    "i/=3\n",
    "i"
   ]
  },
  {
   "cell_type": "code",
   "execution_count": 13,
   "id": "441bcae2",
   "metadata": {},
   "outputs": [
    {
     "data": {
      "text/plain": [
       "3"
      ]
     },
     "execution_count": 13,
     "metadata": {},
     "output_type": "execute_result"
    }
   ],
   "source": [
    "i=10\n",
    "i-=7\n",
    "i"
   ]
  },
  {
   "cell_type": "code",
   "execution_count": 14,
   "id": "fa8c5b30",
   "metadata": {},
   "outputs": [
    {
     "data": {
      "text/plain": [
       "15"
      ]
     },
     "execution_count": 14,
     "metadata": {},
     "output_type": "execute_result"
    }
   ],
   "source": [
    "i=10\n",
    "i+=5\n",
    "i"
   ]
  },
  {
   "cell_type": "code",
   "execution_count": 15,
   "id": "061f35b9",
   "metadata": {},
   "outputs": [
    {
     "data": {
      "text/plain": [
       "1"
      ]
     },
     "execution_count": 15,
     "metadata": {},
     "output_type": "execute_result"
    }
   ],
   "source": [
    "i=10\n",
    "i//=7\n",
    "i"
   ]
  },
  {
   "cell_type": "code",
   "execution_count": 16,
   "id": "37d6aeef",
   "metadata": {},
   "outputs": [
    {
     "data": {
      "text/plain": [
       "3"
      ]
     },
     "execution_count": 16,
     "metadata": {},
     "output_type": "execute_result"
    }
   ],
   "source": [
    "i=10\n",
    "i%=7\n",
    "i"
   ]
  },
  {
   "cell_type": "markdown",
   "id": "c1cc8aea",
   "metadata": {},
   "source": [
    "# Parte 2"
   ]
  },
  {
   "cell_type": "code",
   "execution_count": 2,
   "id": "2cde3f74",
   "metadata": {},
   "outputs": [
    {
     "data": {
      "text/plain": [
       "False"
      ]
     },
     "execution_count": 2,
     "metadata": {},
     "output_type": "execute_result"
    }
   ],
   "source": [
    "1==2 #Evalúa una igualdad"
   ]
  },
  {
   "cell_type": "code",
   "execution_count": 3,
   "id": "5a0463da",
   "metadata": {},
   "outputs": [
    {
     "data": {
      "text/plain": [
       "True"
      ]
     },
     "execution_count": 3,
     "metadata": {},
     "output_type": "execute_result"
    }
   ],
   "source": [
    "1<2 #Operadores lógicos < > <= >="
   ]
  },
  {
   "cell_type": "code",
   "execution_count": 4,
   "id": "553dcf62",
   "metadata": {},
   "outputs": [
    {
     "data": {
      "text/plain": [
       "True"
      ]
     },
     "execution_count": 4,
     "metadata": {},
     "output_type": "execute_result"
    }
   ],
   "source": [
    "1!=2 #evalúa la desigualdad/diferencia"
   ]
  },
  {
   "cell_type": "code",
   "execution_count": 5,
   "id": "aaf118e2",
   "metadata": {},
   "outputs": [
    {
     "data": {
      "text/plain": [
       "('Hola', 'Adios')"
      ]
     },
     "execution_count": 5,
     "metadata": {},
     "output_type": "execute_result"
    }
   ],
   "source": [
    "str1, str2 = \"Hola\", \"Adios\"\n",
    "str1, str2"
   ]
  },
  {
   "cell_type": "code",
   "execution_count": 6,
   "id": "70bea14b",
   "metadata": {},
   "outputs": [],
   "source": [
    "lista1, lista2 = [3,\"Hola\",23], [True,\"Adios\"]"
   ]
  },
  {
   "cell_type": "code",
   "execution_count": 7,
   "id": "56332e9d",
   "metadata": {},
   "outputs": [
    {
     "data": {
      "text/plain": [
       "False"
      ]
     },
     "execution_count": 7,
     "metadata": {},
     "output_type": "execute_result"
    }
   ],
   "source": [
    "str1==str2"
   ]
  },
  {
   "cell_type": "code",
   "execution_count": 9,
   "id": "a7b861af",
   "metadata": {},
   "outputs": [
    {
     "data": {
      "text/plain": [
       "'Hola Mundo'"
      ]
     },
     "execution_count": 9,
     "metadata": {},
     "output_type": "execute_result"
    }
   ],
   "source": [
    "a,b,c=\"Hola\",\" \",\"Mundo\"\n",
    "a+b+c"
   ]
  },
  {
   "cell_type": "code",
   "execution_count": 10,
   "id": "f5e382ea",
   "metadata": {},
   "outputs": [
    {
     "data": {
      "text/plain": [
       "'HolaHolaHola Mundo'"
      ]
     },
     "execution_count": 10,
     "metadata": {},
     "output_type": "execute_result"
    }
   ],
   "source": [
    "a*3+b+c"
   ]
  },
  {
   "cell_type": "code",
   "execution_count": 12,
   "id": "8cf75b7b",
   "metadata": {},
   "outputs": [
    {
     "data": {
      "text/plain": [
       "'Murciélago'"
      ]
     },
     "execution_count": 12,
     "metadata": {},
     "output_type": "execute_result"
    }
   ],
   "source": [
    "d=\"Murciélago\"\n",
    "#  0123456789  <-- Indice del string\n",
    "d"
   ]
  },
  {
   "cell_type": "code",
   "execution_count": 13,
   "id": "05e63a40",
   "metadata": {},
   "outputs": [
    {
     "data": {
      "text/plain": [
       "'lago'"
      ]
     },
     "execution_count": 13,
     "metadata": {},
     "output_type": "execute_result"
    }
   ],
   "source": [
    "d[6:10]"
   ]
  },
  {
   "cell_type": "code",
   "execution_count": 14,
   "id": "a706378c",
   "metadata": {},
   "outputs": [
    {
     "data": {
      "text/plain": [
       "'élago'"
      ]
     },
     "execution_count": 14,
     "metadata": {},
     "output_type": "execute_result"
    }
   ],
   "source": [
    "d[5:]"
   ]
  },
  {
   "cell_type": "code",
   "execution_count": 15,
   "id": "f828ad27",
   "metadata": {},
   "outputs": [
    {
     "data": {
      "text/plain": [
       "'Murci'"
      ]
     },
     "execution_count": 15,
     "metadata": {},
     "output_type": "execute_result"
    }
   ],
   "source": [
    "d[:5]"
   ]
  },
  {
   "cell_type": "markdown",
   "id": "43698611",
   "metadata": {},
   "source": [
    "# Ejercicio 1"
   ]
  },
  {
   "cell_type": "code",
   "execution_count": 18,
   "id": "4fb3a1a4",
   "metadata": {},
   "outputs": [
    {
     "data": {
      "text/plain": [
       "12.0"
      ]
     },
     "execution_count": 18,
     "metadata": {},
     "output_type": "execute_result"
    }
   ],
   "source": [
    "doble_edad = 24\n",
    "mi_edad = doble_edad / 2\n",
    "mi_edad"
   ]
  },
  {
   "cell_type": "code",
   "execution_count": 22,
   "id": "0f644f17",
   "metadata": {},
   "outputs": [
    {
     "data": {
      "text/plain": [
       "63"
      ]
     },
     "execution_count": 22,
     "metadata": {},
     "output_type": "execute_result"
    }
   ],
   "source": [
    "# mi_edad = 6\n",
    "# ( edad_hermana / 3 ) - 15 = mi_edad\n",
    "mi_edad = 6\n",
    "edad_hermana = ( mi_edad + 15 ) * 3\n",
    "edad_hermana"
   ]
  },
  {
   "cell_type": "code",
   "execution_count": 23,
   "id": "c0723c65",
   "metadata": {},
   "outputs": [
    {
     "data": {
      "text/plain": [
       "(False, False, True)"
      ]
     },
     "execution_count": 23,
     "metadata": {},
     "output_type": "execute_result"
    }
   ],
   "source": [
    "mi_edad > edad_hermana, mi_edad == edad_hermana, mi_edad < edad_hermana"
   ]
  },
  {
   "cell_type": "markdown",
   "id": "eb1e9f42",
   "metadata": {},
   "source": [
    "# Parte 3"
   ]
  },
  {
   "cell_type": "code",
   "execution_count": 24,
   "id": "d6565767",
   "metadata": {},
   "outputs": [],
   "source": [
    "import numpy as np"
   ]
  },
  {
   "cell_type": "code",
   "execution_count": 26,
   "id": "85742eb2",
   "metadata": {},
   "outputs": [
    {
     "data": {
      "text/plain": [
       "array([1, 2, 3, 4, 5, 6, 7])"
      ]
     },
     "execution_count": 26,
     "metadata": {},
     "output_type": "execute_result"
    }
   ],
   "source": [
    "a=np.array([1,2,3,4,5,6,7])\n",
    "a"
   ]
  },
  {
   "cell_type": "code",
   "execution_count": 27,
   "id": "51296c6b",
   "metadata": {},
   "outputs": [
    {
     "data": {
      "text/plain": [
       "array([False, False, False,  True,  True,  True,  True])"
      ]
     },
     "execution_count": 27,
     "metadata": {},
     "output_type": "execute_result"
    }
   ],
   "source": [
    "mascara=a>3 #Generar una máscara en base a un condicionante\n",
    "mascara"
   ]
  },
  {
   "cell_type": "code",
   "execution_count": null,
   "id": "d6acf9fc",
   "metadata": {},
   "outputs": [],
   "source": []
  }
 ],
 "metadata": {
  "kernelspec": {
   "display_name": "Python 3",
   "language": "python",
   "name": "python3"
  },
  "language_info": {
   "codemirror_mode": {
    "name": "ipython",
    "version": 3
   },
   "file_extension": ".py",
   "mimetype": "text/x-python",
   "name": "python",
   "nbconvert_exporter": "python",
   "pygments_lexer": "ipython3",
   "version": "3.6.13"
  }
 },
 "nbformat": 4,
 "nbformat_minor": 5
}
