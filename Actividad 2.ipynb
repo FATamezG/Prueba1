{
 "cells": [
  {
   "cell_type": "markdown",
   "id": "fac9e37f",
   "metadata": {},
   "source": [
    "# Paso 1: Crear una Tupla"
   ]
  },
  {
   "cell_type": "code",
   "execution_count": 7,
   "id": "a398f101",
   "metadata": {},
   "outputs": [],
   "source": [
    "tupla1=(\"Hola\",57.3,[1,2,3],False,(3,2,1))"
   ]
  },
  {
   "cell_type": "code",
   "execution_count": 8,
   "id": "2dcf3e5d",
   "metadata": {},
   "outputs": [
    {
     "data": {
      "text/plain": [
       "tuple"
      ]
     },
     "execution_count": 8,
     "metadata": {},
     "output_type": "execute_result"
    }
   ],
   "source": [
    "type(tupla1)"
   ]
  },
  {
   "cell_type": "code",
   "execution_count": 9,
   "id": "0b331969",
   "metadata": {},
   "outputs": [
    {
     "data": {
      "text/plain": [
       "('Hola', 57.3, [1, 2, 3], False, (3, 2, 1))"
      ]
     },
     "execution_count": 9,
     "metadata": {},
     "output_type": "execute_result"
    }
   ],
   "source": [
    "tupla1"
   ]
  },
  {
   "cell_type": "markdown",
   "id": "5102f879",
   "metadata": {},
   "source": [
    "# Paso 2: Cambiar la Tupla a Lista"
   ]
  },
  {
   "cell_type": "code",
   "execution_count": 10,
   "id": "b475de63",
   "metadata": {},
   "outputs": [],
   "source": [
    "lista1=list(tupla1)"
   ]
  },
  {
   "cell_type": "code",
   "execution_count": 11,
   "id": "60811e1a",
   "metadata": {},
   "outputs": [
    {
     "data": {
      "text/plain": [
       "list"
      ]
     },
     "execution_count": 11,
     "metadata": {},
     "output_type": "execute_result"
    }
   ],
   "source": [
    "type(lista1)"
   ]
  },
  {
   "cell_type": "code",
   "execution_count": 12,
   "id": "348f0c78",
   "metadata": {},
   "outputs": [
    {
     "data": {
      "text/plain": [
       "['Hola', 57.3, [1, 2, 3], False, (3, 2, 1)]"
      ]
     },
     "execution_count": 12,
     "metadata": {},
     "output_type": "execute_result"
    }
   ],
   "source": [
    "lista1"
   ]
  },
  {
   "cell_type": "markdown",
   "id": "95308a54",
   "metadata": {},
   "source": [
    "# Paso 3: Crear un Diccionario"
   ]
  },
  {
   "cell_type": "code",
   "execution_count": 13,
   "id": "1a66a349",
   "metadata": {},
   "outputs": [],
   "source": [
    "dicc1={1:lista1[0],\n",
    "       2:lista1[1],\n",
    "       3:lista1[2],\n",
    "       4:lista1[3],\n",
    "       5:lista1[4]\n",
    "      }"
   ]
  },
  {
   "cell_type": "code",
   "execution_count": 14,
   "id": "fd85c19b",
   "metadata": {},
   "outputs": [
    {
     "data": {
      "text/plain": [
       "dict"
      ]
     },
     "execution_count": 14,
     "metadata": {},
     "output_type": "execute_result"
    }
   ],
   "source": [
    "type(dicc1)"
   ]
  },
  {
   "cell_type": "code",
   "execution_count": 15,
   "id": "49f50e98",
   "metadata": {},
   "outputs": [
    {
     "data": {
      "text/plain": [
       "{1: 'Hola', 2: 57.3, 3: [1, 2, 3], 4: False, 5: (3, 2, 1)}"
      ]
     },
     "execution_count": 15,
     "metadata": {},
     "output_type": "execute_result"
    }
   ],
   "source": [
    "dicc1"
   ]
  },
  {
   "cell_type": "code",
   "execution_count": null,
   "id": "8c94dbce",
   "metadata": {},
   "outputs": [],
   "source": []
  }
 ],
 "metadata": {
  "kernelspec": {
   "display_name": "Python 3",
   "language": "python",
   "name": "python3"
  },
  "language_info": {
   "codemirror_mode": {
    "name": "ipython",
    "version": 3
   },
   "file_extension": ".py",
   "mimetype": "text/x-python",
   "name": "python",
   "nbconvert_exporter": "python",
   "pygments_lexer": "ipython3",
   "version": "3.6.13"
  }
 },
 "nbformat": 4,
 "nbformat_minor": 5
}
